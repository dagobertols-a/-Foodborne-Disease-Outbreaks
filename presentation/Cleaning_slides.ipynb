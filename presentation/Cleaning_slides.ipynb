{
 "cells": [
  {
   "cell_type": "markdown",
   "metadata": {
    "slideshow": {
     "slide_type": "slide"
    }
   },
   "source": [
    "# Data Cleaning\n",
    "\n",
    "1. **Formatting columns**\n",
    "2. **Explore null values**\n",
    "3. **Text normalization processing**\n",
    "4. **Save in csv**"
   ]
  },
  {
   "cell_type": "markdown",
   "metadata": {
    "slideshow": {
     "slide_type": "skip"
    }
   },
   "source": [
    "Here I concentrate on the selection of the relevant features of the problem. I explore the distributions of  the null values for each column. In the case of categorical features(string type), I create a normalization process consisting of the correction of spelling errors, elimination of words without information and / or redundant. Finally, I saved the result in a new csv file."
   ]
  },
  {
   "cell_type": "code",
   "execution_count": 1,
   "metadata": {
    "slideshow": {
     "slide_type": "slide"
    }
   },
   "outputs": [],
   "source": [
    "import math \n",
    "import pandas as pd\n",
    "import matplotlib.pyplot as plt\n",
    "import numpy as np\n",
    "import seaborn as sns\n",
    "from scipy import stats\n",
    "import re, string, unicodedata\n",
    "from nltk.tokenize import word_tokenize\n",
    "from nltk.corpus import stopwords\n",
    "from nltk.stem import WordNetLemmatizer\n",
    "#from  utilities import convert_to_float,text_to_list,list_to_text,unique_labels\n",
    "from utilities import *\n",
    "%matplotlib inline\n",
    "sns.set()\n",
    "plt.style.use(\"ggplot\")\n",
    "import warnings\n",
    "warnings.filterwarnings('ignore')"
   ]
  },
  {
   "cell_type": "code",
   "execution_count": 2,
   "metadata": {
    "slideshow": {
     "slide_type": "skip"
    }
   },
   "outputs": [],
   "source": [
    "# Loading dataframe\n",
    "outbreaks = pd.read_excel(open('FoodData.xlsx','rb'), sheet_name=0)"
   ]
  },
  {
   "cell_type": "code",
   "execution_count": 3,
   "metadata": {
    "scrolled": false,
    "slideshow": {
     "slide_type": "slide"
    }
   },
   "outputs": [
    {
     "name": "stdout",
     "output_type": "stream",
     "text": [
      "<class 'pandas.core.frame.DataFrame'>\n",
      "RangeIndex: 19986 entries, 0 to 19985\n",
      "Data columns (total 12 columns):\n",
      "Year                       19986 non-null int64\n",
      "Month                      19986 non-null int64\n",
      "State                      19986 non-null object\n",
      "Genus Species              13196 non-null object\n",
      "Serotype or Genotype       4216 non-null object\n",
      "Etiology Status            13196 non-null object\n",
      "Location of Preparation    18833 non-null object\n",
      "Illnesses                  19986 non-null int64\n",
      "Hospitalizations           16340 non-null float64\n",
      "Deaths                     16374 non-null float64\n",
      "Food Vehicle               10500 non-null object\n",
      "Contaminated Ingredient    2012 non-null object\n",
      "dtypes: float64(2), int64(3), object(7)\n",
      "memory usage: 1.8+ MB\n"
     ]
    }
   ],
   "source": [
    "#General information about the dataframe\n",
    "outbreaks.info()"
   ]
  },
  {
   "cell_type": "code",
   "execution_count": 4,
   "metadata": {
    "slideshow": {
     "slide_type": "slide"
    }
   },
   "outputs": [
    {
     "data": {
      "text/html": [
       "<div>\n",
       "<style scoped>\n",
       "    .dataframe tbody tr th:only-of-type {\n",
       "        vertical-align: middle;\n",
       "    }\n",
       "\n",
       "    .dataframe tbody tr th {\n",
       "        vertical-align: top;\n",
       "    }\n",
       "\n",
       "    .dataframe thead th {\n",
       "        text-align: right;\n",
       "    }\n",
       "</style>\n",
       "<table border=\"1\" class=\"dataframe\">\n",
       "  <thead>\n",
       "    <tr style=\"text-align: right;\">\n",
       "      <th></th>\n",
       "      <th>Year</th>\n",
       "      <th>Month</th>\n",
       "      <th>State</th>\n",
       "      <th>Genus Species</th>\n",
       "      <th>Serotype or Genotype</th>\n",
       "      <th>Etiology Status</th>\n",
       "      <th>Location of Preparation</th>\n",
       "      <th>Illnesses</th>\n",
       "      <th>Hospitalizations</th>\n",
       "      <th>Deaths</th>\n",
       "      <th>Food Vehicle</th>\n",
       "      <th>Contaminated Ingredient</th>\n",
       "    </tr>\n",
       "  </thead>\n",
       "  <tbody>\n",
       "    <tr>\n",
       "      <th>0</th>\n",
       "      <td>2009</td>\n",
       "      <td>1</td>\n",
       "      <td>Minnesota</td>\n",
       "      <td>Norovirus</td>\n",
       "      <td>NaN</td>\n",
       "      <td>Suspected</td>\n",
       "      <td>Restaurant - Sit-down dining</td>\n",
       "      <td>2</td>\n",
       "      <td>0.0</td>\n",
       "      <td>0.0</td>\n",
       "      <td>NaN</td>\n",
       "      <td>NaN</td>\n",
       "    </tr>\n",
       "    <tr>\n",
       "      <th>1</th>\n",
       "      <td>2009</td>\n",
       "      <td>1</td>\n",
       "      <td>Minnesota</td>\n",
       "      <td>Norovirus</td>\n",
       "      <td>NaN</td>\n",
       "      <td>Confirmed</td>\n",
       "      <td>NaN</td>\n",
       "      <td>16</td>\n",
       "      <td>0.0</td>\n",
       "      <td>0.0</td>\n",
       "      <td>NaN</td>\n",
       "      <td>NaN</td>\n",
       "    </tr>\n",
       "    <tr>\n",
       "      <th>2</th>\n",
       "      <td>2009</td>\n",
       "      <td>1</td>\n",
       "      <td>Minnesota</td>\n",
       "      <td>Norovirus</td>\n",
       "      <td>NaN</td>\n",
       "      <td>Suspected</td>\n",
       "      <td>Restaurant - Sit-down dining</td>\n",
       "      <td>5</td>\n",
       "      <td>0.0</td>\n",
       "      <td>0.0</td>\n",
       "      <td>NaN</td>\n",
       "      <td>NaN</td>\n",
       "    </tr>\n",
       "    <tr>\n",
       "      <th>3</th>\n",
       "      <td>2009</td>\n",
       "      <td>1</td>\n",
       "      <td>Minnesota</td>\n",
       "      <td>Norovirus</td>\n",
       "      <td>NaN</td>\n",
       "      <td>Confirmed</td>\n",
       "      <td>Restaurant - \"Fast-food\"(drive up service or p...</td>\n",
       "      <td>3</td>\n",
       "      <td>0.0</td>\n",
       "      <td>0.0</td>\n",
       "      <td>NaN</td>\n",
       "      <td>NaN</td>\n",
       "    </tr>\n",
       "    <tr>\n",
       "      <th>4</th>\n",
       "      <td>2009</td>\n",
       "      <td>1</td>\n",
       "      <td>Minnesota</td>\n",
       "      <td>Norovirus</td>\n",
       "      <td>NaN</td>\n",
       "      <td>Confirmed</td>\n",
       "      <td>Restaurant - other or unknown type</td>\n",
       "      <td>21</td>\n",
       "      <td>0.0</td>\n",
       "      <td>0.0</td>\n",
       "      <td>cookies</td>\n",
       "      <td>NaN</td>\n",
       "    </tr>\n",
       "  </tbody>\n",
       "</table>\n",
       "</div>"
      ],
      "text/plain": [
       "   Year  Month      State Genus Species Serotype or Genotype Etiology Status  \\\n",
       "0  2009      1  Minnesota     Norovirus                  NaN       Suspected   \n",
       "1  2009      1  Minnesota     Norovirus                  NaN       Confirmed   \n",
       "2  2009      1  Minnesota     Norovirus                  NaN       Suspected   \n",
       "3  2009      1  Minnesota     Norovirus                  NaN       Confirmed   \n",
       "4  2009      1  Minnesota     Norovirus                  NaN       Confirmed   \n",
       "\n",
       "                             Location of Preparation  Illnesses  \\\n",
       "0                       Restaurant - Sit-down dining          2   \n",
       "1                                                NaN         16   \n",
       "2                       Restaurant - Sit-down dining          5   \n",
       "3  Restaurant - \"Fast-food\"(drive up service or p...          3   \n",
       "4                 Restaurant - other or unknown type         21   \n",
       "\n",
       "   Hospitalizations  Deaths Food Vehicle Contaminated Ingredient  \n",
       "0               0.0     0.0          NaN                     NaN  \n",
       "1               0.0     0.0          NaN                     NaN  \n",
       "2               0.0     0.0          NaN                     NaN  \n",
       "3               0.0     0.0          NaN                     NaN  \n",
       "4               0.0     0.0      cookies                     NaN  "
      ]
     },
     "execution_count": 4,
     "metadata": {},
     "output_type": "execute_result"
    }
   ],
   "source": [
    "outbreaks.head()"
   ]
  },
  {
   "cell_type": "markdown",
   "metadata": {
    "slideshow": {
     "slide_type": "slide"
    }
   },
   "source": [
    "# Formatting columns <a id='formatting'> </a>"
   ]
  },
  {
   "cell_type": "code",
   "execution_count": 5,
   "metadata": {
    "slideshow": {
     "slide_type": "slide"
    }
   },
   "outputs": [],
   "source": [
    "# Renaming columns\n",
    "outbreaks.columns = ['Year', 'Month', 'State', 'Species', 'Serotype/Genotype',\n",
    "       'Status', 'Location', 'Illnesses',\n",
    "       'Hospitalizations', 'Fatalities', 'Food',\n",
    "       'Ingredient']\n",
    " \n",
    "\n",
    "# Numeric columns to type float\n",
    "numeric_columns= ['Illnesses', 'Hospitalizations', 'Fatalities']\n",
    "for column in numeric_columns: \n",
    "    outbreaks.loc[:,column]= convert_to_float(outbreaks,column)\n",
    "    "
   ]
  },
  {
   "cell_type": "code",
   "execution_count": 6,
   "metadata": {
    "slideshow": {
     "slide_type": "slide"
    }
   },
   "outputs": [],
   "source": [
    "#In the column Month, each entry  has  a number between  1 and 12. \n",
    "#Let us map these numbers  to the name of the months.  \n",
    "\n",
    "#Renaming column Month to strings \n",
    "outbreaks[\"Month\"] =outbreaks.Month.map({1:'January', 2:'February', 3:'March', 4:'April', 5:'May', 6:'June', \n",
    "                          7:'July', 8:'August', 9:'September', \\\n",
    " 10:'October', 11:'November', 12:'December'})"
   ]
  },
  {
   "cell_type": "code",
   "execution_count": 7,
   "metadata": {
    "slideshow": {
     "slide_type": "slide"
    }
   },
   "outputs": [
    {
     "name": "stdout",
     "output_type": "stream",
     "text": [
      "<class 'pandas.core.frame.DataFrame'>\n",
      "RangeIndex: 19986 entries, 0 to 19985\n",
      "Data columns (total 12 columns):\n",
      "Year                 19986 non-null int64\n",
      "Month                19986 non-null object\n",
      "State                19986 non-null object\n",
      "Species              13196 non-null object\n",
      "Serotype/Genotype    4216 non-null object\n",
      "Status               13196 non-null object\n",
      "Location             18833 non-null object\n",
      "Illnesses            19986 non-null float64\n",
      "Hospitalizations     16340 non-null float64\n",
      "Fatalities           16374 non-null float64\n",
      "Food                 10500 non-null object\n",
      "Ingredient           2012 non-null object\n",
      "dtypes: float64(3), int64(1), object(8)\n",
      "memory usage: 1.8+ MB\n"
     ]
    }
   ],
   "source": [
    "outbreaks.info()"
   ]
  },
  {
   "cell_type": "markdown",
   "metadata": {
    "slideshow": {
     "slide_type": "notes"
    }
   },
   "source": [
    "Let's substitute the names of the states to their abbreviations."
   ]
  },
  {
   "cell_type": "code",
   "execution_count": 8,
   "metadata": {
    "slideshow": {
     "slide_type": "slide"
    }
   },
   "outputs": [
    {
     "data": {
      "text/html": [
       "<div>\n",
       "<style scoped>\n",
       "    .dataframe tbody tr th:only-of-type {\n",
       "        vertical-align: middle;\n",
       "    }\n",
       "\n",
       "    .dataframe tbody tr th {\n",
       "        vertical-align: top;\n",
       "    }\n",
       "\n",
       "    .dataframe thead th {\n",
       "        text-align: right;\n",
       "    }\n",
       "</style>\n",
       "<table border=\"1\" class=\"dataframe\">\n",
       "  <thead>\n",
       "    <tr style=\"text-align: right;\">\n",
       "      <th></th>\n",
       "      <th>Year</th>\n",
       "      <th>Month</th>\n",
       "      <th>State</th>\n",
       "      <th>Species</th>\n",
       "      <th>Serotype/Genotype</th>\n",
       "      <th>Status</th>\n",
       "      <th>Location</th>\n",
       "      <th>Illnesses</th>\n",
       "      <th>Hospitalizations</th>\n",
       "      <th>Fatalities</th>\n",
       "      <th>Food</th>\n",
       "      <th>Ingredient</th>\n",
       "    </tr>\n",
       "  </thead>\n",
       "  <tbody>\n",
       "    <tr>\n",
       "      <th>0</th>\n",
       "      <td>2009</td>\n",
       "      <td>January</td>\n",
       "      <td>MN</td>\n",
       "      <td>Norovirus</td>\n",
       "      <td>NaN</td>\n",
       "      <td>Suspected</td>\n",
       "      <td>Restaurant - Sit-down dining</td>\n",
       "      <td>2.0</td>\n",
       "      <td>0.0</td>\n",
       "      <td>0.0</td>\n",
       "      <td>NaN</td>\n",
       "      <td>NaN</td>\n",
       "    </tr>\n",
       "    <tr>\n",
       "      <th>1</th>\n",
       "      <td>2009</td>\n",
       "      <td>January</td>\n",
       "      <td>MN</td>\n",
       "      <td>Norovirus</td>\n",
       "      <td>NaN</td>\n",
       "      <td>Confirmed</td>\n",
       "      <td>NaN</td>\n",
       "      <td>16.0</td>\n",
       "      <td>0.0</td>\n",
       "      <td>0.0</td>\n",
       "      <td>NaN</td>\n",
       "      <td>NaN</td>\n",
       "    </tr>\n",
       "    <tr>\n",
       "      <th>2</th>\n",
       "      <td>2009</td>\n",
       "      <td>January</td>\n",
       "      <td>MN</td>\n",
       "      <td>Norovirus</td>\n",
       "      <td>NaN</td>\n",
       "      <td>Suspected</td>\n",
       "      <td>Restaurant - Sit-down dining</td>\n",
       "      <td>5.0</td>\n",
       "      <td>0.0</td>\n",
       "      <td>0.0</td>\n",
       "      <td>NaN</td>\n",
       "      <td>NaN</td>\n",
       "    </tr>\n",
       "    <tr>\n",
       "      <th>3</th>\n",
       "      <td>2009</td>\n",
       "      <td>January</td>\n",
       "      <td>MN</td>\n",
       "      <td>Norovirus</td>\n",
       "      <td>NaN</td>\n",
       "      <td>Confirmed</td>\n",
       "      <td>Restaurant - \"Fast-food\"(drive up service or p...</td>\n",
       "      <td>3.0</td>\n",
       "      <td>0.0</td>\n",
       "      <td>0.0</td>\n",
       "      <td>NaN</td>\n",
       "      <td>NaN</td>\n",
       "    </tr>\n",
       "    <tr>\n",
       "      <th>4</th>\n",
       "      <td>2009</td>\n",
       "      <td>January</td>\n",
       "      <td>MN</td>\n",
       "      <td>Norovirus</td>\n",
       "      <td>NaN</td>\n",
       "      <td>Confirmed</td>\n",
       "      <td>Restaurant - other or unknown type</td>\n",
       "      <td>21.0</td>\n",
       "      <td>0.0</td>\n",
       "      <td>0.0</td>\n",
       "      <td>cookies</td>\n",
       "      <td>NaN</td>\n",
       "    </tr>\n",
       "  </tbody>\n",
       "</table>\n",
       "</div>"
      ],
      "text/plain": [
       "   Year    Month State    Species Serotype/Genotype     Status  \\\n",
       "0  2009  January    MN  Norovirus               NaN  Suspected   \n",
       "1  2009  January    MN  Norovirus               NaN  Confirmed   \n",
       "2  2009  January    MN  Norovirus               NaN  Suspected   \n",
       "3  2009  January    MN  Norovirus               NaN  Confirmed   \n",
       "4  2009  January    MN  Norovirus               NaN  Confirmed   \n",
       "\n",
       "                                            Location  Illnesses  \\\n",
       "0                       Restaurant - Sit-down dining        2.0   \n",
       "1                                                NaN       16.0   \n",
       "2                       Restaurant - Sit-down dining        5.0   \n",
       "3  Restaurant - \"Fast-food\"(drive up service or p...        3.0   \n",
       "4                 Restaurant - other or unknown type       21.0   \n",
       "\n",
       "   Hospitalizations  Fatalities     Food Ingredient  \n",
       "0               0.0         0.0      NaN        NaN  \n",
       "1               0.0         0.0      NaN        NaN  \n",
       "2               0.0         0.0      NaN        NaN  \n",
       "3               0.0         0.0      NaN        NaN  \n",
       "4               0.0         0.0  cookies        NaN  "
      ]
     },
     "execution_count": 8,
     "metadata": {},
     "output_type": "execute_result"
    }
   ],
   "source": [
    "# By using the dictionary state_abbreviations from utilities.py one can map state name to its abbreviation\n",
    "State_to_Abbrev = lambda state: state_abbreviations[state] \n",
    "\n",
    "state_abrev= outbreaks[\"State\"].apply(State_to_Abbrev)\n",
    "outbreaks[\"State\"]  = state_abrev\n",
    "outbreaks.head()"
   ]
  },
  {
   "cell_type": "markdown",
   "metadata": {},
   "source": [
    "# Null Values <a id='null'> </a>\n",
    "\n",
    "Let us explore the null values for  each column."
   ]
  },
  {
   "cell_type": "code",
   "execution_count": 9,
   "metadata": {
    "slideshow": {
     "slide_type": "slide"
    }
   },
   "outputs": [
    {
     "data": {
      "text/html": [
       "<div>\n",
       "<style scoped>\n",
       "    .dataframe tbody tr th:only-of-type {\n",
       "        vertical-align: middle;\n",
       "    }\n",
       "\n",
       "    .dataframe tbody tr th {\n",
       "        vertical-align: top;\n",
       "    }\n",
       "\n",
       "    .dataframe thead th {\n",
       "        text-align: right;\n",
       "    }\n",
       "</style>\n",
       "<table border=\"1\" class=\"dataframe\">\n",
       "  <thead>\n",
       "    <tr style=\"text-align: right;\">\n",
       "      <th></th>\n",
       "      <th>Not_null_by_column</th>\n",
       "    </tr>\n",
       "  </thead>\n",
       "  <tbody>\n",
       "    <tr>\n",
       "      <th>Year</th>\n",
       "      <td>100.0</td>\n",
       "    </tr>\n",
       "    <tr>\n",
       "      <th>Month</th>\n",
       "      <td>100.0</td>\n",
       "    </tr>\n",
       "    <tr>\n",
       "      <th>State</th>\n",
       "      <td>100.0</td>\n",
       "    </tr>\n",
       "    <tr>\n",
       "      <th>Illnesses</th>\n",
       "      <td>100.0</td>\n",
       "    </tr>\n",
       "    <tr>\n",
       "      <th>Location</th>\n",
       "      <td>94.0</td>\n",
       "    </tr>\n",
       "    <tr>\n",
       "      <th>Fatalities</th>\n",
       "      <td>82.0</td>\n",
       "    </tr>\n",
       "    <tr>\n",
       "      <th>Hospitalizations</th>\n",
       "      <td>82.0</td>\n",
       "    </tr>\n",
       "    <tr>\n",
       "      <th>Species</th>\n",
       "      <td>66.0</td>\n",
       "    </tr>\n",
       "    <tr>\n",
       "      <th>Status</th>\n",
       "      <td>66.0</td>\n",
       "    </tr>\n",
       "    <tr>\n",
       "      <th>Food</th>\n",
       "      <td>53.0</td>\n",
       "    </tr>\n",
       "    <tr>\n",
       "      <th>Serotype/Genotype</th>\n",
       "      <td>21.0</td>\n",
       "    </tr>\n",
       "    <tr>\n",
       "      <th>Ingredient</th>\n",
       "      <td>10.0</td>\n",
       "    </tr>\n",
       "  </tbody>\n",
       "</table>\n",
       "</div>"
      ],
      "text/plain": [
       "                   Not_null_by_column\n",
       "Year                            100.0\n",
       "Month                           100.0\n",
       "State                           100.0\n",
       "Illnesses                       100.0\n",
       "Location                         94.0\n",
       "Fatalities                       82.0\n",
       "Hospitalizations                 82.0\n",
       "Species                          66.0\n",
       "Status                           66.0\n",
       "Food                             53.0\n",
       "Serotype/Genotype                21.0\n",
       "Ingredient                       10.0"
      ]
     },
     "execution_count": 9,
     "metadata": {},
     "output_type": "execute_result"
    }
   ],
   "source": [
    "# Sorted list of null values\n",
    "null_values= outbreaks.isnull().sum().sort_values(axis=0, ascending=True)\n",
    "# Percent of not null values by column\n",
    "percent_null_values= 100.0*null_values/outbreaks.shape[0]\n",
    "percent_not_null_values = round(100.0- percent_null_values)\n",
    "pd.DataFrame(percent_not_null_values,columns=['Not_null_by_column'])"
   ]
  },
  {
   "cell_type": "code",
   "execution_count": 10,
   "metadata": {
    "scrolled": true,
    "slideshow": {
     "slide_type": "slide"
    }
   },
   "outputs": [
    {
     "data": {
      "image/png": "[encoded data removed]",
      "text/plain": [
       "<Figure size 432x288 with 1 Axes>"
      ]
     },
     "metadata": {
      "needs_background": "light"
     },
     "output_type": "display_data"
    }
   ],
   "source": [
    "# Plot of not null values by column\n",
    "percent_not_null_values.plot(kind=\"bar\",rot=50)\n",
    "plt.title(\"Percent of not null values by column\")\n",
    "plt.ylabel(\"Percent\")\n",
    "#plt.xlabel(\"Column\")\n",
    "plt.show()"
   ]
  },
  {
   "cell_type": "markdown",
   "metadata": {
    "slideshow": {
     "slide_type": "slide"
    }
   },
   "source": [
    "Remove columns with many null values($\\approx 50 \\%$ or more )"
   ]
  },
  {
   "cell_type": "code",
   "execution_count": 11,
   "metadata": {
    "slideshow": {
     "slide_type": "skip"
    }
   },
   "outputs": [],
   "source": [
    "# Removing columns: Serotype/Genotype and Ingredient\n",
    "# Also, let us remove column Status \n",
    "\n",
    "outbreaks= outbreaks[['Year', 'Month', 'State', 'Species',\n",
    "       'Location', \"Food\",'Illnesses', 'Hospitalizations', 'Fatalities']]"
   ]
  },
  {
   "cell_type": "code",
   "execution_count": 12,
   "metadata": {
    "slideshow": {
     "slide_type": "skip"
    }
   },
   "outputs": [
    {
     "data": {
      "text/html": [
       "<div>\n",
       "<style scoped>\n",
       "    .dataframe tbody tr th:only-of-type {\n",
       "        vertical-align: middle;\n",
       "    }\n",
       "\n",
       "    .dataframe tbody tr th {\n",
       "        vertical-align: top;\n",
       "    }\n",
       "\n",
       "    .dataframe thead th {\n",
       "        text-align: right;\n",
       "    }\n",
       "</style>\n",
       "<table border=\"1\" class=\"dataframe\">\n",
       "  <thead>\n",
       "    <tr style=\"text-align: right;\">\n",
       "      <th></th>\n",
       "      <th>Year</th>\n",
       "      <th>Month</th>\n",
       "      <th>State</th>\n",
       "      <th>Species</th>\n",
       "      <th>Location</th>\n",
       "      <th>Food</th>\n",
       "      <th>Illnesses</th>\n",
       "      <th>Hospitalizations</th>\n",
       "      <th>Fatalities</th>\n",
       "    </tr>\n",
       "  </thead>\n",
       "  <tbody>\n",
       "    <tr>\n",
       "      <th>0</th>\n",
       "      <td>2009</td>\n",
       "      <td>January</td>\n",
       "      <td>MN</td>\n",
       "      <td>Norovirus</td>\n",
       "      <td>Restaurant - Sit-down dining</td>\n",
       "      <td>NaN</td>\n",
       "      <td>2.0</td>\n",
       "      <td>0.0</td>\n",
       "      <td>0.0</td>\n",
       "    </tr>\n",
       "    <tr>\n",
       "      <th>1</th>\n",
       "      <td>2009</td>\n",
       "      <td>January</td>\n",
       "      <td>MN</td>\n",
       "      <td>Norovirus</td>\n",
       "      <td>NaN</td>\n",
       "      <td>NaN</td>\n",
       "      <td>16.0</td>\n",
       "      <td>0.0</td>\n",
       "      <td>0.0</td>\n",
       "    </tr>\n",
       "    <tr>\n",
       "      <th>2</th>\n",
       "      <td>2009</td>\n",
       "      <td>January</td>\n",
       "      <td>MN</td>\n",
       "      <td>Norovirus</td>\n",
       "      <td>Restaurant - Sit-down dining</td>\n",
       "      <td>NaN</td>\n",
       "      <td>5.0</td>\n",
       "      <td>0.0</td>\n",
       "      <td>0.0</td>\n",
       "    </tr>\n",
       "    <tr>\n",
       "      <th>3</th>\n",
       "      <td>2009</td>\n",
       "      <td>January</td>\n",
       "      <td>MN</td>\n",
       "      <td>Norovirus</td>\n",
       "      <td>Restaurant - \"Fast-food\"(drive up service or p...</td>\n",
       "      <td>NaN</td>\n",
       "      <td>3.0</td>\n",
       "      <td>0.0</td>\n",
       "      <td>0.0</td>\n",
       "    </tr>\n",
       "    <tr>\n",
       "      <th>4</th>\n",
       "      <td>2009</td>\n",
       "      <td>January</td>\n",
       "      <td>MN</td>\n",
       "      <td>Norovirus</td>\n",
       "      <td>Restaurant - other or unknown type</td>\n",
       "      <td>cookies</td>\n",
       "      <td>21.0</td>\n",
       "      <td>0.0</td>\n",
       "      <td>0.0</td>\n",
       "    </tr>\n",
       "  </tbody>\n",
       "</table>\n",
       "</div>"
      ],
      "text/plain": [
       "   Year    Month State    Species  \\\n",
       "0  2009  January    MN  Norovirus   \n",
       "1  2009  January    MN  Norovirus   \n",
       "2  2009  January    MN  Norovirus   \n",
       "3  2009  January    MN  Norovirus   \n",
       "4  2009  January    MN  Norovirus   \n",
       "\n",
       "                                            Location     Food  Illnesses  \\\n",
       "0                       Restaurant - Sit-down dining      NaN        2.0   \n",
       "1                                                NaN      NaN       16.0   \n",
       "2                       Restaurant - Sit-down dining      NaN        5.0   \n",
       "3  Restaurant - \"Fast-food\"(drive up service or p...      NaN        3.0   \n",
       "4                 Restaurant - other or unknown type  cookies       21.0   \n",
       "\n",
       "   Hospitalizations  Fatalities  \n",
       "0               0.0         0.0  \n",
       "1               0.0         0.0  \n",
       "2               0.0         0.0  \n",
       "3               0.0         0.0  \n",
       "4               0.0         0.0  "
      ]
     },
     "execution_count": 12,
     "metadata": {},
     "output_type": "execute_result"
    }
   ],
   "source": [
    "outbreaks.head()"
   ]
  },
  {
   "cell_type": "markdown",
   "metadata": {
    "slideshow": {
     "slide_type": "skip"
    }
   },
   "source": [
    "Let's search for hidden white spaces in the categorical columns. When we do a search for a substring in an entry if this  entry is NaN Python give us  an error. To avoid that let us impute a value of type string to the NaN entries. "
   ]
  },
  {
   "cell_type": "code",
   "execution_count": 13,
   "metadata": {
    "slideshow": {
     "slide_type": "skip"
    }
   },
   "outputs": [],
   "source": [
    "categorical_columns = ['Species', 'Location', 'Food']\n",
    "for column in categorical_columns:\n",
    "        outbreaks_column= outbreaks[column].fillna(\"null_value\",inplace= False)\n",
    "        \n",
    "        outbreaks.loc[:,column] = outbreaks_column\n",
    " "
   ]
  },
  {
   "cell_type": "markdown",
   "metadata": {
    "slideshow": {
     "slide_type": "slide"
    }
   },
   "source": [
    "# Text processing <a id='text'> </a>\n",
    "Hidden white spaces."
   ]
  },
  {
   "cell_type": "code",
   "execution_count": 14,
   "metadata": {
    "slideshow": {
     "slide_type": "slide"
    }
   },
   "outputs": [
    {
     "name": "stdout",
     "output_type": "stream",
     "text": [
      "Number of observations with extra spaces in column 'Species': 0\n",
      "Number of observations with extra spaces in column 'Location': 0\n",
      "Number of observations with extra spaces in column 'Food': 1\n"
     ]
    }
   ],
   "source": [
    "import re\n",
    "\n",
    "def extra_spaces(column):# Looking for leading and trailing spaces\n",
    "    superfluous_spaces=lambda str: True  if re.search(r'^\\s+|\\s+$', str) else False\n",
    "    return (outbreaks[column].apply(superfluous_spaces)).sum()\n",
    "\n",
    "\n",
    "for column in categorical_columns:\n",
    "    #Trailing\n",
    "    print(\"Number of observations with extra spaces in column '{}': {}\".format(column,extra_spaces(column)) )\n",
    "\n"
   ]
  },
  {
   "cell_type": "markdown",
   "metadata": {
    "slideshow": {
     "slide_type": "skip"
    }
   },
   "source": [
    "We have a record with extra spaces in the column Food."
   ]
  },
  {
   "cell_type": "code",
   "execution_count": 15,
   "metadata": {
    "slideshow": {
     "slide_type": "slide"
    }
   },
   "outputs": [
    {
     "name": "stdout",
     "output_type": "stream",
     "text": [
      "Number of observations with trailing spaces in Food: 0\n"
     ]
    }
   ],
   "source": [
    "# After remove extra spaces in column Food\n",
    "remove_extra_space = lambda word: word.strip()\n",
    "outbreaks[\"Food\"] = outbreaks[\"Food\"].apply(remove_extra_space)\n",
    "print(\"Number of observations with trailing spaces in Food: {}\".format(extra_spaces(\"Food\") )) "
   ]
  },
  {
   "cell_type": "markdown",
   "metadata": {
    "slideshow": {
     "slide_type": "skip"
    }
   },
   "source": [
    "An outbreak can happen in different locations and/or can be caused by several types of food at the same time. \n",
    "Also, it can be caused by multiple species. In our dataset these records with multiple entries are separated by semicolons. Let us check the spaces around these semicolons. The spaces after the semicolons are syntactically correct, but the  spaces before are errors."
   ]
  },
  {
   "cell_type": "code",
   "execution_count": 16,
   "metadata": {
    "slideshow": {
     "slide_type": "skip"
    }
   },
   "outputs": [
    {
     "name": "stdout",
     "output_type": "stream",
     "text": [
      "For categorical columns, do all semicolons contain an space after?\n",
      "\n",
      "For Species -> True.\n",
      "For Location -> True.\n",
      "For Food -> True.\n",
      "\n",
      "For categorical columns, do all semicolons contain an space before?\n",
      "\n",
      "For Species -> False.\n",
      "For Location -> False.\n",
      "For Food -> False.\n"
     ]
    }
   ],
   "source": [
    "\n",
    "# Any space before of after the ;\n",
    "print(\"For categorical columns, do all semicolons contain an space after?\")\n",
    "print('')\n",
    "for column in categorical_columns:\n",
    "    print(\"For {} -> {}.\".format(column,(outbreaks[column].str.contains(r\";\")).sum() \\\n",
    "    ==(outbreaks[column].str.contains(r\";\\s\")).sum()))\n",
    "print('')\n",
    "print(\"For categorical columns, do all semicolons contain an space before?\")\n",
    "print('')\n",
    "for column in categorical_columns:\n",
    "    print(\"For {} -> {}.\".format(column,(outbreaks[column].str.contains(\";\")).sum() \\\n",
    "    ==(outbreaks[column].str.contains(r\"\\s;\")).sum()))"
   ]
  },
  {
   "cell_type": "markdown",
   "metadata": {
    "slideshow": {
     "slide_type": "skip"
    }
   },
   "source": [
    "It can happen that two records contain the same elements but arranged in a different way. To avoid counting these records as different let us sort each record."
   ]
  },
  {
   "cell_type": "code",
   "execution_count": 17,
   "metadata": {
    "slideshow": {
     "slide_type": "skip"
    }
   },
   "outputs": [],
   "source": [
    "outbreaks.loc[:,'Location']=list_to_text(text_to_list(outbreaks,'Location'))\n"
   ]
  },
  {
   "cell_type": "code",
   "execution_count": 18,
   "metadata": {
    "slideshow": {
     "slide_type": "slide"
    }
   },
   "outputs": [
    {
     "data": {
      "text/plain": [
       "['banquet facility (food prepared and served on-site)',\n",
       " 'camp',\n",
       " 'caterer (food prepared off-site from where served)',\n",
       " 'child day care',\n",
       " 'fair, festival, other temp or mobile services',\n",
       " 'farm/dairy',\n",
       " 'grocery store',\n",
       " 'hospital',\n",
       " 'hotel/motel',\n",
       " 'long-term care/nursing home/as...',\n",
       " 'long-term care/nursing home/assisted living facility',\n",
       " 'null_value',\n",
       " 'office/indoor workplace',\n",
       " 'other',\n",
       " 'prison/jail',\n",
       " 'private home/residence',\n",
       " 'religious facility',\n",
       " 'restaurant - \"fast-food\"(drive up service or pay at counter)',\n",
       " 'restaurant - buffet',\n",
       " 'restaurant - other or unknown type',\n",
       " 'restaurant - sit-down dining',\n",
       " 'school/college/university',\n",
       " 'ship/boat',\n",
       " 'unknown']"
      ]
     },
     "execution_count": 18,
     "metadata": {},
     "output_type": "execute_result"
    }
   ],
   "source": [
    "# Extracting unique values(using unique_labels from utilities.py)\n",
    "unique_labels(text_to_list(outbreaks,'Location'))"
   ]
  },
  {
   "cell_type": "markdown",
   "metadata": {
    "slideshow": {
     "slide_type": "slide"
    }
   },
   "source": [
    "Here we have: two locations named: long-term care/nursing home/assisted living facility' and long-term care/nursing home/as...', but they are the same place. "
   ]
  },
  {
   "cell_type": "code",
   "execution_count": 19,
   "metadata": {},
   "outputs": [
    {
     "name": "stdout",
     "output_type": "stream",
     "text": [
      "['grocery store; long-term care/nursing home/as...; private home/residence; restaurant - \"fast-food\"(drive up service or pay at counter); restaurant - other or unknown type; restaurant - sit-down dining']\n"
     ]
    }
   ],
   "source": [
    "# row that contains 'long-term care/nursing home/as...'\n",
    "long_term_diff_sintaxis=outbreaks.Location[outbreaks.Location.str.contains(r'long-term care/nursing home/as\\.\\.\\.')]\n",
    "print(list(long_term_diff_sintaxis))"
   ]
  },
  {
   "cell_type": "code",
   "execution_count": 20,
   "metadata": {
    "scrolled": true,
    "slideshow": {
     "slide_type": "slide"
    }
   },
   "outputs": [
    {
     "data": {
      "text/plain": [
       "['banquet facility (food prepared and served on-site)',\n",
       " 'camp',\n",
       " 'caterer (food prepared off-site from where served)',\n",
       " 'child day care',\n",
       " 'fair, festival, other temp or mobile services',\n",
       " 'farm/dairy',\n",
       " 'grocery store',\n",
       " 'hospital',\n",
       " 'hotel/motel',\n",
       " 'long-term care/nursing home/assisted living facility',\n",
       " 'null_value',\n",
       " 'office/indoor workplace',\n",
       " 'other',\n",
       " 'prison/jail',\n",
       " 'private home/residence',\n",
       " 'religious facility',\n",
       " 'restaurant - \"fast-food\"(drive up service or pay at counter)',\n",
       " 'restaurant - buffet',\n",
       " 'restaurant - other or unknown type',\n",
       " 'restaurant - sit-down dining',\n",
       " 'school/college/university',\n",
       " 'ship/boat',\n",
       " 'unknown']"
      ]
     },
     "execution_count": 20,
     "metadata": {},
     "output_type": "execute_result"
    }
   ],
   "source": [
    "outbreaks.Location[long_term_diff_sintaxis.index[0]]='restaurant - \"fast-food\"(drive up service or pay at counter); restaurant - sit-down dining; restaurant - other or unknown type; private home/residence; grocery store; long-term care/nursing home/assisted living facility'\n",
    "\n",
    "unique_labels(text_to_list(outbreaks,'Location'))"
   ]
  },
  {
   "cell_type": "code",
   "execution_count": 21,
   "metadata": {
    "slideshow": {
     "slide_type": "slide"
    }
   },
   "outputs": [],
   "source": [
    "# Species column\n",
    "outbreaks.loc[:,'Species']=list_to_text(text_to_list(outbreaks,'Species'))"
   ]
  },
  {
   "cell_type": "markdown",
   "metadata": {
    "slideshow": {
     "slide_type": "subslide"
    }
   },
   "source": [
    "There are words in the column Species such as 'other' and 'unknown' which are uninformative. But as there is a category named as Other, we have to procced in several steps. \n"
   ]
  },
  {
   "cell_type": "code",
   "execution_count": 22,
   "metadata": {
    "slideshow": {
     "slide_type": "slide"
    }
   },
   "outputs": [],
   "source": [
    "# Remove patterns ', other' and  ' unknown'\n",
    "outbreaks.loc[:,'Species']=outbreaks.Species.str.replace(r', other','').str.replace(r' unknown','')"
   ]
  },
  {
   "cell_type": "code",
   "execution_count": 23,
   "metadata": {
    "slideshow": {
     "slide_type": "skip"
    }
   },
   "outputs": [
    {
     "data": {
      "text/plain": [
       "['adenovirus',\n",
       " 'amnesic shellfish poison',\n",
       " 'anisakis',\n",
       " 'astrovirus',\n",
       " 'bacillus',\n",
       " 'bacillus cereus',\n",
       " 'bacillus other',\n",
       " 'brucella',\n",
       " 'campylobacter',\n",
       " 'campylobacter coli',\n",
       " 'campylobacter fetus',\n",
       " 'campylobacter jejuni',\n",
       " 'campylobacter other',\n",
       " 'ciguatoxin',\n",
       " 'cleaning agents',\n",
       " 'clostridium botulinum',\n",
       " 'clostridium other',\n",
       " 'clostridium perfringens',\n",
       " 'cryptosporidium',\n",
       " 'cryptosporidium hominis',\n",
       " 'cryptosporidium parvum',\n",
       " 'cyclospora',\n",
       " 'cyclospora cayetanensis',\n",
       " 'enterobacter cloacae',\n",
       " 'enterobacter other']"
      ]
     },
     "execution_count": 23,
     "metadata": {},
     "output_type": "execute_result"
    }
   ],
   "source": [
    "unique_labels(text_to_list(outbreaks,'Species'))[:25]"
   ]
  },
  {
   "cell_type": "markdown",
   "metadata": {
    "slideshow": {
     "slide_type": "skip"
    }
   },
   "source": [
    "To remove ' other' first we need to change '; other' to something else, then remove ' other' and then put '; other' back."
   ]
  },
  {
   "cell_type": "code",
   "execution_count": 24,
   "metadata": {
    "slideshow": {
     "slide_type": "skip"
    }
   },
   "outputs": [],
   "source": [
    "outbreaks.loc[:,'Species']=outbreaks.Species.str.replace(r'; other','; temporal_other')\n",
    "outbreaks.loc[:,'Species']=outbreaks.Species.str.replace(r' other','')\n",
    "outbreaks.loc[:,'Species']=outbreaks.Species.str.replace(r'; temporal_other',r'; other')"
   ]
  },
  {
   "cell_type": "code",
   "execution_count": 25,
   "metadata": {
    "slideshow": {
     "slide_type": "slide"
    }
   },
   "outputs": [
    {
     "data": {
      "text/plain": [
       "['adenovirus',\n",
       " 'amnesic shellfish poison',\n",
       " 'anisakis',\n",
       " 'astrovirus',\n",
       " 'bacillus',\n",
       " 'bacillus cereus',\n",
       " 'brucella',\n",
       " 'campylobacter',\n",
       " 'campylobacter coli',\n",
       " 'campylobacter fetus',\n",
       " 'campylobacter jejuni',\n",
       " 'ciguatoxin',\n",
       " 'cleaning agents',\n",
       " 'clostridium',\n",
       " 'clostridium botulinum',\n",
       " 'clostridium perfringens',\n",
       " 'cryptosporidium',\n",
       " 'cryptosporidium hominis',\n",
       " 'cryptosporidium parvum',\n",
       " 'cyclospora',\n",
       " 'cyclospora cayetanensis',\n",
       " 'enterobacter',\n",
       " 'enterobacter cloacae',\n",
       " 'enterococcus faecalis',\n",
       " 'escherichia coli']"
      ]
     },
     "execution_count": 25,
     "metadata": {},
     "output_type": "execute_result"
    }
   ],
   "source": [
    "unique_labels(text_to_list(outbreaks,'Species'))[:25]"
   ]
  },
  {
   "cell_type": "code",
   "execution_count": 26,
   "metadata": {},
   "outputs": [
    {
     "data": {
      "text/html": [
       "<div>\n",
       "<style scoped>\n",
       "    .dataframe tbody tr th:only-of-type {\n",
       "        vertical-align: middle;\n",
       "    }\n",
       "\n",
       "    .dataframe tbody tr th {\n",
       "        vertical-align: top;\n",
       "    }\n",
       "\n",
       "    .dataframe thead th {\n",
       "        text-align: right;\n",
       "    }\n",
       "</style>\n",
       "<table border=\"1\" class=\"dataframe\">\n",
       "  <thead>\n",
       "    <tr style=\"text-align: right;\">\n",
       "      <th></th>\n",
       "      <th>Year</th>\n",
       "      <th>Month</th>\n",
       "      <th>State</th>\n",
       "      <th>Species</th>\n",
       "      <th>Location</th>\n",
       "      <th>Food</th>\n",
       "      <th>Illnesses</th>\n",
       "      <th>Hospitalizations</th>\n",
       "      <th>Fatalities</th>\n",
       "    </tr>\n",
       "  </thead>\n",
       "  <tbody>\n",
       "    <tr>\n",
       "      <th>0</th>\n",
       "      <td>2009</td>\n",
       "      <td>January</td>\n",
       "      <td>MN</td>\n",
       "      <td>norovirus</td>\n",
       "      <td>restaurant - sit-down dining</td>\n",
       "      <td>null_value</td>\n",
       "      <td>2.0</td>\n",
       "      <td>0.0</td>\n",
       "      <td>0.0</td>\n",
       "    </tr>\n",
       "    <tr>\n",
       "      <th>1</th>\n",
       "      <td>2009</td>\n",
       "      <td>January</td>\n",
       "      <td>MN</td>\n",
       "      <td>norovirus</td>\n",
       "      <td>null_value</td>\n",
       "      <td>null_value</td>\n",
       "      <td>16.0</td>\n",
       "      <td>0.0</td>\n",
       "      <td>0.0</td>\n",
       "    </tr>\n",
       "    <tr>\n",
       "      <th>2</th>\n",
       "      <td>2009</td>\n",
       "      <td>January</td>\n",
       "      <td>MN</td>\n",
       "      <td>norovirus</td>\n",
       "      <td>restaurant - sit-down dining</td>\n",
       "      <td>null_value</td>\n",
       "      <td>5.0</td>\n",
       "      <td>0.0</td>\n",
       "      <td>0.0</td>\n",
       "    </tr>\n",
       "    <tr>\n",
       "      <th>3</th>\n",
       "      <td>2009</td>\n",
       "      <td>January</td>\n",
       "      <td>MN</td>\n",
       "      <td>norovirus</td>\n",
       "      <td>restaurant - \"fast-food\"(drive up service or p...</td>\n",
       "      <td>null_value</td>\n",
       "      <td>3.0</td>\n",
       "      <td>0.0</td>\n",
       "      <td>0.0</td>\n",
       "    </tr>\n",
       "    <tr>\n",
       "      <th>4</th>\n",
       "      <td>2009</td>\n",
       "      <td>January</td>\n",
       "      <td>MN</td>\n",
       "      <td>norovirus</td>\n",
       "      <td>restaurant - other or unknown type</td>\n",
       "      <td>cookies</td>\n",
       "      <td>21.0</td>\n",
       "      <td>0.0</td>\n",
       "      <td>0.0</td>\n",
       "    </tr>\n",
       "  </tbody>\n",
       "</table>\n",
       "</div>"
      ],
      "text/plain": [
       "   Year    Month State    Species  \\\n",
       "0  2009  January    MN  norovirus   \n",
       "1  2009  January    MN  norovirus   \n",
       "2  2009  January    MN  norovirus   \n",
       "3  2009  January    MN  norovirus   \n",
       "4  2009  January    MN  norovirus   \n",
       "\n",
       "                                            Location        Food  Illnesses  \\\n",
       "0                       restaurant - sit-down dining  null_value        2.0   \n",
       "1                                         null_value  null_value       16.0   \n",
       "2                       restaurant - sit-down dining  null_value        5.0   \n",
       "3  restaurant - \"fast-food\"(drive up service or p...  null_value        3.0   \n",
       "4                 restaurant - other or unknown type     cookies       21.0   \n",
       "\n",
       "   Hospitalizations  Fatalities  \n",
       "0               0.0         0.0  \n",
       "1               0.0         0.0  \n",
       "2               0.0         0.0  \n",
       "3               0.0         0.0  \n",
       "4               0.0         0.0  "
      ]
     },
     "execution_count": 26,
     "metadata": {},
     "output_type": "execute_result"
    }
   ],
   "source": [
    "# Removing Palau\n",
    "outbreaks= outbreaks.loc[outbreaks.State!=\"PW\",:]\n",
    "#outbreaks= outbreaks.reset_index()\n",
    "outbreaks.head()"
   ]
  },
  {
   "cell_type": "code",
   "execution_count": 27,
   "metadata": {
    "slideshow": {
     "slide_type": "slide"
    }
   },
   "outputs": [],
   "source": [
    "# Food column\n",
    "\n",
    "outbreaks.loc[:,'Food']=list_to_text(text_to_list(outbreaks,'Food'))"
   ]
  },
  {
   "cell_type": "code",
   "execution_count": 28,
   "metadata": {
    "slideshow": {
     "slide_type": "skip"
    }
   },
   "outputs": [
    {
     "data": {
      "text/plain": [
       "['acai, bananas, strawberries, sugar cane juice',\n",
       " 'ackawi cheese, pasteurized',\n",
       " 'alboacore tuna',\n",
       " 'alcohol',\n",
       " 'alfalfa seeds',\n",
       " 'alfalfa sprouts',\n",
       " 'alfredo sauce',\n",
       " 'alligator',\n",
       " 'ambrosia',\n",
       " 'american cheese, pasteurized']"
      ]
     },
     "execution_count": 28,
     "metadata": {},
     "output_type": "execute_result"
    }
   ],
   "source": [
    "food_labels=unique_labels(text_to_list(outbreaks,'Food'))\n",
    "food_labels[:10]"
   ]
  },
  {
   "cell_type": "code",
   "execution_count": 29,
   "metadata": {
    "slideshow": {
     "slide_type": "slide"
    }
   },
   "outputs": [
    {
     "name": "stdout",
     "output_type": "stream",
     "text": [
      "Number of food labels: 1791.\n"
     ]
    }
   ],
   "source": [
    "print('Number of food labels: {}.'.format(len(food_labels)))"
   ]
  },
  {
   "cell_type": "markdown",
   "metadata": {
    "slideshow": {
     "slide_type": "slide"
    }
   },
   "source": [
    "Let us check some words in the food sources that are uninformative, i.e. \n",
    "unknown, source unknown, unspecified and  other."
   ]
  },
  {
   "cell_type": "code",
   "execution_count": 30,
   "metadata": {
    "slideshow": {
     "slide_type": "slide"
    }
   },
   "outputs": [],
   "source": [
    "\n",
    "def count_word(dataframe,column, word):\n",
    "    # Count how many times word appears in a column\n",
    "    \n",
    "    #Params:\n",
    "    # dataframe is the dataframe\n",
    "    # column is the column of interest \n",
    "    # word to look for\n",
    "    \n",
    "    # Return:\n",
    "    # Integer with the numer of times that word appears in a column\n",
    "    \n",
    "    return len(dataframe[column][dataframe[column].str.contains(word)])\n"
   ]
  },
  {
   "cell_type": "code",
   "execution_count": 31,
   "metadata": {
    "slideshow": {
     "slide_type": "subslide"
    }
   },
   "outputs": [
    {
     "name": "stdout",
     "output_type": "stream",
     "text": [
      "Count of source unknown is 3\n",
      "Count of unknown is 26\n",
      "Count of unspecified is 3297\n",
      "Count of other is 558\n"
     ]
    }
   ],
   "source": [
    "list_uninformative_words= ['source unknown', 'unknown','unspecified','other']\n",
    "for word in list_uninformative_words:\n",
    "    print('Count of {} is {}'.format(word,count_word(outbreaks,'Food', word)))"
   ]
  },
  {
   "cell_type": "code",
   "execution_count": 32,
   "metadata": {
    "slideshow": {
     "slide_type": "slide"
    }
   },
   "outputs": [],
   "source": [
    "for word in list_uninformative_words:\n",
    "    outbreaks.loc[:,'Food']=outbreaks.Food.str.replace(word,'')"
   ]
  },
  {
   "cell_type": "markdown",
   "metadata": {
    "slideshow": {
     "slide_type": "skip"
    }
   },
   "source": [
    "Correct some misspelling"
   ]
  },
  {
   "cell_type": "code",
   "execution_count": 33,
   "metadata": {
    "slideshow": {
     "slide_type": "skip"
    }
   },
   "outputs": [],
   "source": [
    "misspelling_words={'antipasta':'antipasto','beef(fresly killed cow), raw and/or undercooked':'beef, raw','stronganoff':'stroganoff','fettucine':'fettuccine'}"
   ]
  },
  {
   "cell_type": "code",
   "execution_count": 34,
   "metadata": {
    "slideshow": {
     "slide_type": "skip"
    }
   },
   "outputs": [],
   "source": [
    "for word_key in  misspelling_words.keys():\n",
    "    outbreaks.loc[:,'Food']=outbreaks.Food.str.replace(word_key,misspelling_words[word_key])\n"
   ]
  },
  {
   "cell_type": "markdown",
   "metadata": {
    "slideshow": {
     "slide_type": "skip"
    }
   },
   "source": [
    "Normalizing food column."
   ]
  },
  {
   "cell_type": "code",
   "execution_count": 35,
   "metadata": {
    "slideshow": {
     "slide_type": "slide"
    }
   },
   "outputs": [
    {
     "data": {
      "text/plain": [
       "0                              [null_value]\n",
       "1                              [null_value]\n",
       "2                              [null_value]\n",
       "3                              [null_value]\n",
       "4                                 [cookies]\n",
       "5                                [salad, ,]\n",
       "6                              [null_value]\n",
       "7    [fruit, ;, mushrooms, ;, pasta, salad]\n",
       "8                              [vegetables]\n",
       "9                              [lettuce, ,]\n",
       "Name: Food, dtype: object"
      ]
     },
     "execution_count": 35,
     "metadata": {},
     "output_type": "execute_result"
    }
   ],
   "source": [
    "#Normalizing food column.\n",
    "\n",
    "tokenized_column_food=outbreaks.Food.apply(lambda entry: word_tokenize(entry))\n",
    "tokenized_column_food[:10]"
   ]
  },
  {
   "cell_type": "code",
   "execution_count": 36,
   "metadata": {
    "slideshow": {
     "slide_type": "slide"
    }
   },
   "outputs": [
    {
     "data": {
      "text/plain": [
       "0                        [nullvalue]\n",
       "1                        [nullvalue]\n",
       "2                        [nullvalue]\n",
       "3                        [nullvalue]\n",
       "4                            [cooky]\n",
       "5                            [salad]\n",
       "6                        [nullvalue]\n",
       "7    [fruit, mushroom, pasta, salad]\n",
       "8                        [vegetable]\n",
       "9                          [lettuce]\n",
       "Name: Food, dtype: object"
      ]
     },
     "execution_count": 36,
     "metadata": {},
     "output_type": "execute_result"
    }
   ],
   "source": [
    "# normalized_column_food is a column where each entry is a list of words(normalized)\n",
    "normalized_column_food=tokenized_column_food.apply(lambda entry: normalize(entry))\n",
    "# First 10 elements\n",
    "normalized_column_food[:10] "
   ]
  },
  {
   "cell_type": "code",
   "execution_count": 37,
   "metadata": {
    "slideshow": {
     "slide_type": "skip"
    }
   },
   "outputs": [
    {
     "data": {
      "text/html": [
       "<div>\n",
       "<style scoped>\n",
       "    .dataframe tbody tr th:only-of-type {\n",
       "        vertical-align: middle;\n",
       "    }\n",
       "\n",
       "    .dataframe tbody tr th {\n",
       "        vertical-align: top;\n",
       "    }\n",
       "\n",
       "    .dataframe thead th {\n",
       "        text-align: right;\n",
       "    }\n",
       "</style>\n",
       "<table border=\"1\" class=\"dataframe\">\n",
       "  <thead>\n",
       "    <tr style=\"text-align: right;\">\n",
       "      <th></th>\n",
       "      <th>Year</th>\n",
       "      <th>Month</th>\n",
       "      <th>State</th>\n",
       "      <th>Species</th>\n",
       "      <th>Location</th>\n",
       "      <th>Food</th>\n",
       "      <th>Illnesses</th>\n",
       "      <th>Hospitalizations</th>\n",
       "      <th>Fatalities</th>\n",
       "      <th>normalized_food</th>\n",
       "    </tr>\n",
       "  </thead>\n",
       "  <tbody>\n",
       "    <tr>\n",
       "      <th>19981</th>\n",
       "      <td>2016</td>\n",
       "      <td>November</td>\n",
       "      <td>CA</td>\n",
       "      <td>salmonella enterica</td>\n",
       "      <td>restaurant - sit-down dining</td>\n",
       "      <td>null_value</td>\n",
       "      <td>18.0</td>\n",
       "      <td>3.0</td>\n",
       "      <td>0.0</td>\n",
       "      <td>null_value</td>\n",
       "    </tr>\n",
       "    <tr>\n",
       "      <th>19982</th>\n",
       "      <td>2016</td>\n",
       "      <td>May</td>\n",
       "      <td>CA</td>\n",
       "      <td>campylobacter jejuni</td>\n",
       "      <td>restaurant - sit-down dining</td>\n",
       "      <td>null_value</td>\n",
       "      <td>60.0</td>\n",
       "      <td>3.0</td>\n",
       "      <td>0.0</td>\n",
       "      <td>null_value</td>\n",
       "    </tr>\n",
       "    <tr>\n",
       "      <th>19983</th>\n",
       "      <td>2016</td>\n",
       "      <td>April</td>\n",
       "      <td>MUL_STATE</td>\n",
       "      <td>salmonella enterica</td>\n",
       "      <td>restaurant - sit-down dining</td>\n",
       "      <td>shell eggs</td>\n",
       "      <td>8.0</td>\n",
       "      <td>2.0</td>\n",
       "      <td>0.0</td>\n",
       "      <td>shell egg</td>\n",
       "    </tr>\n",
       "    <tr>\n",
       "      <th>19984</th>\n",
       "      <td>2016</td>\n",
       "      <td>October</td>\n",
       "      <td>MUL_STATE</td>\n",
       "      <td>escherichia coli, shiga toxin-producing</td>\n",
       "      <td>null_value</td>\n",
       "      <td>null_value</td>\n",
       "      <td>13.0</td>\n",
       "      <td>10.0</td>\n",
       "      <td>1.0</td>\n",
       "      <td>null_value</td>\n",
       "    </tr>\n",
       "    <tr>\n",
       "      <th>19985</th>\n",
       "      <td>2016</td>\n",
       "      <td>April</td>\n",
       "      <td>MUL_STATE</td>\n",
       "      <td>escherichia coli, shiga toxin-producing</td>\n",
       "      <td>null_value</td>\n",
       "      <td>null_value</td>\n",
       "      <td>4.0</td>\n",
       "      <td>0.0</td>\n",
       "      <td>0.0</td>\n",
       "      <td>null_value</td>\n",
       "    </tr>\n",
       "  </tbody>\n",
       "</table>\n",
       "</div>"
      ],
      "text/plain": [
       "       Year     Month      State                                  Species  \\\n",
       "19981  2016  November         CA                      salmonella enterica   \n",
       "19982  2016       May         CA                     campylobacter jejuni   \n",
       "19983  2016     April  MUL_STATE                      salmonella enterica   \n",
       "19984  2016   October  MUL_STATE  escherichia coli, shiga toxin-producing   \n",
       "19985  2016     April  MUL_STATE  escherichia coli, shiga toxin-producing   \n",
       "\n",
       "                           Location        Food  Illnesses  Hospitalizations  \\\n",
       "19981  restaurant - sit-down dining  null_value       18.0               3.0   \n",
       "19982  restaurant - sit-down dining  null_value       60.0               3.0   \n",
       "19983  restaurant - sit-down dining  shell eggs        8.0               2.0   \n",
       "19984                    null_value  null_value       13.0              10.0   \n",
       "19985                    null_value  null_value        4.0               0.0   \n",
       "\n",
       "       Fatalities normalized_food  \n",
       "19981         0.0      null_value  \n",
       "19982         0.0      null_value  \n",
       "19983         0.0       shell egg  \n",
       "19984         1.0      null_value  \n",
       "19985         0.0      null_value  "
      ]
     },
     "execution_count": 37,
     "metadata": {},
     "output_type": "execute_result"
    }
   ],
   "source": [
    "# Transforming each entry of normalized_column_food from list to strings\n",
    "outbreaks['normalized_food']=normalized_column_food.apply(lambda list_words: \" \".join(list_words))\n",
    "# Replacing nullvalue by null_value\n",
    "outbreaks['normalized_food']=outbreaks['normalized_food'].str.replace(r'nullvalue','null_value')\n",
    "outbreaks.tail()"
   ]
  },
  {
   "cell_type": "code",
   "execution_count": 38,
   "metadata": {
    "slideshow": {
     "slide_type": "skip"
    }
   },
   "outputs": [
    {
     "data": {
      "text/html": [
       "<div>\n",
       "<style scoped>\n",
       "    .dataframe tbody tr th:only-of-type {\n",
       "        vertical-align: middle;\n",
       "    }\n",
       "\n",
       "    .dataframe tbody tr th {\n",
       "        vertical-align: top;\n",
       "    }\n",
       "\n",
       "    .dataframe thead th {\n",
       "        text-align: right;\n",
       "    }\n",
       "</style>\n",
       "<table border=\"1\" class=\"dataframe\">\n",
       "  <thead>\n",
       "    <tr style=\"text-align: right;\">\n",
       "      <th></th>\n",
       "      <th>Year</th>\n",
       "      <th>Month</th>\n",
       "      <th>State</th>\n",
       "      <th>Species</th>\n",
       "      <th>Location</th>\n",
       "      <th>Food</th>\n",
       "      <th>Illnesses</th>\n",
       "      <th>Hospitalizations</th>\n",
       "      <th>Fatalities</th>\n",
       "      <th>normalized_food</th>\n",
       "    </tr>\n",
       "  </thead>\n",
       "  <tbody>\n",
       "    <tr>\n",
       "      <th>19981</th>\n",
       "      <td>2016</td>\n",
       "      <td>November</td>\n",
       "      <td>CA</td>\n",
       "      <td>salmonella enterica</td>\n",
       "      <td>restaurant - sit-down dining</td>\n",
       "      <td>NaN</td>\n",
       "      <td>18.0</td>\n",
       "      <td>3.0</td>\n",
       "      <td>0.0</td>\n",
       "      <td>NaN</td>\n",
       "    </tr>\n",
       "    <tr>\n",
       "      <th>19982</th>\n",
       "      <td>2016</td>\n",
       "      <td>May</td>\n",
       "      <td>CA</td>\n",
       "      <td>campylobacter jejuni</td>\n",
       "      <td>restaurant - sit-down dining</td>\n",
       "      <td>NaN</td>\n",
       "      <td>60.0</td>\n",
       "      <td>3.0</td>\n",
       "      <td>0.0</td>\n",
       "      <td>NaN</td>\n",
       "    </tr>\n",
       "    <tr>\n",
       "      <th>19983</th>\n",
       "      <td>2016</td>\n",
       "      <td>April</td>\n",
       "      <td>MUL_STATE</td>\n",
       "      <td>salmonella enterica</td>\n",
       "      <td>restaurant - sit-down dining</td>\n",
       "      <td>shell eggs</td>\n",
       "      <td>8.0</td>\n",
       "      <td>2.0</td>\n",
       "      <td>0.0</td>\n",
       "      <td>shell egg</td>\n",
       "    </tr>\n",
       "    <tr>\n",
       "      <th>19984</th>\n",
       "      <td>2016</td>\n",
       "      <td>October</td>\n",
       "      <td>MUL_STATE</td>\n",
       "      <td>escherichia coli, shiga toxin-producing</td>\n",
       "      <td>NaN</td>\n",
       "      <td>NaN</td>\n",
       "      <td>13.0</td>\n",
       "      <td>10.0</td>\n",
       "      <td>1.0</td>\n",
       "      <td>NaN</td>\n",
       "    </tr>\n",
       "    <tr>\n",
       "      <th>19985</th>\n",
       "      <td>2016</td>\n",
       "      <td>April</td>\n",
       "      <td>MUL_STATE</td>\n",
       "      <td>escherichia coli, shiga toxin-producing</td>\n",
       "      <td>NaN</td>\n",
       "      <td>NaN</td>\n",
       "      <td>4.0</td>\n",
       "      <td>0.0</td>\n",
       "      <td>0.0</td>\n",
       "      <td>NaN</td>\n",
       "    </tr>\n",
       "  </tbody>\n",
       "</table>\n",
       "</div>"
      ],
      "text/plain": [
       "       Year     Month      State                                  Species  \\\n",
       "19981  2016  November         CA                      salmonella enterica   \n",
       "19982  2016       May         CA                     campylobacter jejuni   \n",
       "19983  2016     April  MUL_STATE                      salmonella enterica   \n",
       "19984  2016   October  MUL_STATE  escherichia coli, shiga toxin-producing   \n",
       "19985  2016     April  MUL_STATE  escherichia coli, shiga toxin-producing   \n",
       "\n",
       "                           Location        Food  Illnesses  Hospitalizations  \\\n",
       "19981  restaurant - sit-down dining         NaN       18.0               3.0   \n",
       "19982  restaurant - sit-down dining         NaN       60.0               3.0   \n",
       "19983  restaurant - sit-down dining  shell eggs        8.0               2.0   \n",
       "19984                           NaN         NaN       13.0              10.0   \n",
       "19985                           NaN         NaN        4.0               0.0   \n",
       "\n",
       "       Fatalities normalized_food  \n",
       "19981         0.0             NaN  \n",
       "19982         0.0             NaN  \n",
       "19983         0.0       shell egg  \n",
       "19984         1.0             NaN  \n",
       "19985         0.0             NaN  "
      ]
     },
     "execution_count": 38,
     "metadata": {},
     "output_type": "execute_result"
    }
   ],
   "source": [
    "# Returning 'null_value' back to NaN\n",
    "outbreaks.replace('null_value',np.NaN,inplace=True)\n",
    "# Last outbreaks\n",
    "outbreaks.tail()"
   ]
  },
  {
   "cell_type": "code",
   "execution_count": 39,
   "metadata": {
    "slideshow": {
     "slide_type": "skip"
    }
   },
   "outputs": [
    {
     "name": "stdout",
     "output_type": "stream",
     "text": [
      "<class 'pandas.core.frame.DataFrame'>\n",
      "Int64Index: 19984 entries, 0 to 19985\n",
      "Data columns (total 10 columns):\n",
      "Year                19984 non-null int64\n",
      "Month               19984 non-null object\n",
      "State               19984 non-null object\n",
      "Species             13195 non-null object\n",
      "Location            18831 non-null object\n",
      "Food                10499 non-null object\n",
      "Illnesses           19984 non-null float64\n",
      "Hospitalizations    16338 non-null float64\n",
      "Fatalities          16372 non-null float64\n",
      "normalized_food     10499 non-null object\n",
      "dtypes: float64(3), int64(1), object(6)\n",
      "memory usage: 1.7+ MB\n"
     ]
    }
   ],
   "source": [
    "outbreaks.info()"
   ]
  },
  {
   "cell_type": "code",
   "execution_count": 40,
   "metadata": {
    "slideshow": {
     "slide_type": "slide"
    }
   },
   "outputs": [],
   "source": [
    "# Save the clean dataset\n",
    "outbreaks.to_csv('cleaned_outbreaks.csv',index=False) "
   ]
  }
 ],
 "metadata": {
  "celltoolbar": "Slideshow",
  "kernelspec": {
   "display_name": "Python 3",
   "language": "python",
   "name": "python3"
  },
  "language_info": {
   "codemirror_mode": {
    "name": "ipython",
    "version": 3
   },
   "file_extension": ".py",
   "mimetype": "text/x-python",
   "name": "python",
   "nbconvert_exporter": "python",
   "pygments_lexer": "ipython3",
   "version": "3.6.8"
  }
 },
 "nbformat": 4,
 "nbformat_minor": 2
}
