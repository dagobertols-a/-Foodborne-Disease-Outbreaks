{
 "cells": [
  {
   "cell_type": "markdown",
   "metadata": {
    "slideshow": {
     "slide_type": "slide"
    }
   },
   "source": [
    "# Models\n",
    "1. Train test split and cross validation sets\n",
    "2. Data preprocessing\n",
    "3. Cross validation functions.\n",
    "3. Algorithms and parameter tuning\n",
    "3. Performance in the test  set\n"
   ]
  },
  {
   "cell_type": "code",
   "execution_count": 4,
   "metadata": {
    "slideshow": {
     "slide_type": "skip"
    }
   },
   "outputs": [],
   "source": [
    "import math \n",
    "import pandas as pd\n",
    "import matplotlib.pyplot as plt\n",
    "import numpy as np\n",
    "import seaborn as sns\n",
    "from scipy import stats\n",
    "import re, string, unicodedata\n",
    "from nltk.tokenize import word_tokenize\n",
    "from nltk.corpus import stopwords\n",
    "from utilities import *\n",
    "%matplotlib inline\n",
    "sns.set()\n",
    "plt.style.use(\"ggplot\")\n",
    "import warnings\n",
    "warnings.filterwarnings('ignore')"
   ]
  },
  {
   "cell_type": "code",
   "execution_count": null,
   "metadata": {
    "slideshow": {
     "slide_type": "skip"
    }
   },
   "outputs": [],
   "source": [
    "# Loading dataframe\n",
    "outbreaks = pd.read_csv(\"machine_learning_ready.csv\")"
   ]
  },
  {
   "cell_type": "code",
   "execution_count": 5,
   "metadata": {
    "slideshow": {
     "slide_type": "slide"
    }
   },
   "outputs": [
    {
     "name": "stdout",
     "output_type": "stream",
     "text": [
      "<class 'pandas.core.frame.DataFrame'>\n",
      "RangeIndex: 19078 entries, 0 to 19077\n",
      "Data columns (total 16 columns):\n",
      "level_0                       19078 non-null int64\n",
      "index                         19078 non-null int64\n",
      "Year                          19078 non-null int64\n",
      "Month                         19078 non-null object\n",
      "State                         19078 non-null object\n",
      "Species                       19078 non-null object\n",
      "Location                      19078 non-null object\n",
      "normalized_food               19078 non-null object\n",
      "Illnesses                     19078 non-null float64\n",
      "Hospitalizations              19078 non-null float64\n",
      "Fatalities                    19078 non-null float64\n",
      "Are_there_Hospitalizations    19078 non-null int64\n",
      "Are_there_Fatalities          19078 non-null int64\n",
      "Log_Illnesses                 19078 non-null float64\n",
      "Most_common_Location          19078 non-null object\n",
      "Most_common_Species           19078 non-null object\n",
      "dtypes: float64(4), int64(5), object(7)\n",
      "memory usage: 2.3+ MB\n"
     ]
    }
   ],
   "source": [
    "#General information about the dataframe\n",
    "outbreaks= outbreaks.reset_index()\n",
    "outbreaks.info()"
   ]
  },
  {
   "cell_type": "markdown",
   "metadata": {
    "slideshow": {
     "slide_type": "skip"
    }
   },
   "source": [
    "Separation in train and test sets. The train set is going to be used to train and validate de model. The test set is going to be put aside until the end."
   ]
  },
  {
   "cell_type": "code",
   "execution_count": 6,
   "metadata": {
    "slideshow": {
     "slide_type": "slide"
    }
   },
   "outputs": [
    {
     "name": "stdout",
     "output_type": "stream",
     "text": [
      "<class 'pandas.core.frame.DataFrame'>\n",
      "RangeIndex: 19078 entries, 0 to 19077\n",
      "Data columns (total 13 columns):\n",
      "Year                          19078 non-null int64\n",
      "Month                         19078 non-null object\n",
      "State                         19078 non-null object\n",
      "Species                       19078 non-null object\n",
      "Location                      19078 non-null object\n",
      "normalized_food               19078 non-null object\n",
      "Illnesses                     19078 non-null float64\n",
      "Hospitalizations              19078 non-null float64\n",
      "Fatalities                    19078 non-null float64\n",
      "Most_common_Location          19078 non-null object\n",
      "Most_common_Species           19078 non-null object\n",
      "Are_there_Hospitalizations    19078 non-null int64\n",
      "Are_there_Fatalities          19078 non-null int64\n",
      "dtypes: float64(3), int64(3), object(7)\n",
      "memory usage: 1.9+ MB\n"
     ]
    }
   ],
   "source": [
    "temp_data=outbreaks[['Year', 'Month', 'State', 'Species', 'Location',\n",
    "       'normalized_food', 'Illnesses', 'Hospitalizations', 'Fatalities',\n",
    "       'Most_common_Location', 'Most_common_Species','Are_there_Hospitalizations', 'Are_there_Fatalities']]\n",
    "del outbreaks\n",
    "outbreaks=temp_data\n",
    "outbreaks.info()\n"
   ]
  },
  {
   "cell_type": "code",
   "execution_count": 7,
   "metadata": {
    "slideshow": {
     "slide_type": "slide"
    }
   },
   "outputs": [],
   "source": [
    "# In order tu use train_test_split we create and extra column filled with ones.\n",
    "extra_column= np.ones(outbreaks.values.shape[0]).reshape(-1,1)\n",
    "X = outbreaks.values\n",
    "\n",
    "from sklearn.model_selection import train_test_split\n",
    "# X_train_val is our train-validate set\n",
    "X_train_val, X_test, _, _ = train_test_split(X, extra_column,test_size \\\n",
    "                                                    = 0.25, random_state=0)\n",
    "# outbreaks_train associated dataframe of X_train_val\n",
    "outbreaks_train = pd.DataFrame(X_train_val, columns=outbreaks.columns) \n",
    "# outbreaks_test associated dataframe of X_test\n",
    "outbreaks_test = pd.DataFrame(X_test, columns=outbreaks.columns ) "
   ]
  },
  {
   "cell_type": "code",
   "execution_count": 8,
   "metadata": {
    "slideshow": {
     "slide_type": "slide"
    }
   },
   "outputs": [],
   "source": [
    "# scikit-learn k-fold cross-validation\n",
    "from numpy import array\n",
    "from random import seed\n",
    "np.random.seed(12)\n",
    "from sklearn.model_selection import KFold\n",
    "# data \n",
    "data = X_train_val\n",
    "# Prepare cross validation and number of splits\n",
    "n_folds = 3\n",
    "kfold = KFold(n_folds, shuffle=False, random_state=132)\n",
    "# pairs of train and validation sets to do cv\n",
    "data_splits=kfold.split(data)\n",
    "train_sets= [] # n_folds train  sets\n",
    "val_sets = [] # n_folds validation  sets\n",
    "for train_index, val_index in data_splits:\n",
    "    train_sets.append(data[train_index])\n",
    "    val_sets.append(data[val_index])\n",
    "    \n"
   ]
  },
  {
   "cell_type": "code",
   "execution_count": 9,
   "metadata": {
    "slideshow": {
     "slide_type": "skip"
    }
   },
   "outputs": [],
   "source": [
    "# Useful functions\n",
    "import copy\n",
    "\n",
    "# Formating numerical features\n",
    "def to_float(data,column):\n",
    "    #Return type float column \n",
    "    dataframe= copy.deepcopy(data)\n",
    "    return dataframe[column].astype(\"float\")\n",
    "\n",
    "\n",
    "# Divide outbreaks  using the median of Illnesses\n",
    "def A_lot_of_Ill(column):\n",
    "    #Convert column Illnesses to categoriacl where median_Log_Ill_train is the threshold   \n",
    "    out_A_lot_of_Ill = column >= median_Log_Ill_train\n",
    "    out_A_lot_of_Ill = out_A_lot_of_Ill.astype(\"int\")\n",
    "    return out_A_lot_of_Ill\n",
    "    \n",
    "# Function that produces two classes given a threshold   \n",
    "def two_classes(data, column,thr=0.0):\n",
    "    # Return boolean column\n",
    "    dataframe=copy.deepcopy(data)\n",
    "    # Boolean column \n",
    "    binary_classes= (dataframe[column] > thr).astype(\"float\")\n",
    "    return binary_classes\n",
    "\n",
    "# This fuction return the most common classes \n",
    "def most_common(data, column,top_classes):\n",
    "    # Params:\n",
    "    # top_classes is the number of labels to consider\n",
    "    \n",
    "    # Return:\n",
    "    # A column  with top labels with  more outbreaks\n",
    "    dataframe = copy.deepcopy(data)\n",
    "    \n",
    "    def common_classes(element):\n",
    "    \n",
    "        if element in top_classes:\n",
    "            return element \n",
    "        else:\n",
    "            return \"bulk_\" + column\n",
    "        \n",
    "    most_common_elements =dataframe[column].apply(common_classes)\n",
    "    return most_common_elements\n",
    "\n",
    "\n",
    "def not_outliers_column(data, train_set, column,threshold=99.9):\n",
    "    \n",
    "    # Return a boolean column where True = not outlier and False= outlier\n",
    "    #In order to avoid data leakages from  test set, on the column train_set[column]  \n",
    "    #is calculated the threshold that is \n",
    "    #used to classify the points of data[column] in outliers or not.\n",
    "     \n",
    "    \n",
    "    # Params:\n",
    "    # data is our dataset it could be train, validation or test set\n",
    "    # train_set is the train dataset \n",
    "    # column is the column of interest\n",
    "    #threshold is the threshold to use\n",
    "    \n",
    "    #Return:\n",
    "    # Boolean numpy array\n",
    "    \n",
    "    \n",
    "    # If column = Fatalities the threshold  is greater\n",
    "    if column == \"Fatalities\":\n",
    "        thr = 99.95\n",
    "    else:\n",
    "        thr = threshold\n",
    "        \n",
    "    train_data=copy.deepcopy(train_set)\n",
    "    # Numeric value associated with threshold percent \n",
    "    thr_percent = np.percentile(train_data[column],thr)\n",
    "    \n",
    "    return (data[column] <= thr_percent)\n",
    "\n",
    "\n",
    "# pd.get_dummies need that all data have to be in the same dataframe\n",
    "    \n",
    "# Encoding categorical variables using get_dummies\n",
    "def get_dummies(data1,data2):\n",
    "    # Return one hot encoding for train and val sets\n",
    "    \n",
    "    dframe1= copy.deepcopy(data1)\n",
    "    dframe2= copy.deepcopy(data2)\n",
    "    \n",
    "    # concatenating train and val sets\n",
    "    join=pd.concat([dframe1,dframe2],axis = 0) \n",
    "    # Reindexing\n",
    "    join_reindex= join.reset_index(drop=True,inplace=False)\n",
    "    # Getting dummies\n",
    "    dummies= pd.get_dummies(join_reindex,drop_first=True)\n",
    "    \n",
    "    #Recovering  the original datasets in term of the dummies\n",
    "    \n",
    "    # Dummies for 1st dataset\n",
    "    df1_dummies= dummies.iloc[:dframe1.shape[0],:]\n",
    "    \n",
    "    # Dummies for 2nd dataset.\n",
    "    #Here, I used reset_index because indexes of the second dataset do not start at 0\n",
    "    df2_dummies = dummies.iloc[dframe1.shape[0]:,:].reset_index(drop=True,inplace=False)\n",
    "    \n",
    "    return df1_dummies, df2_dummies\n"
   ]
  },
  {
   "cell_type": "markdown",
   "metadata": {
    "slideshow": {
     "slide_type": "slide"
    }
   },
   "source": [
    "To avoid data leaking fron validation set to trainig set, we will do all preprocessing steps in each cv fold."
   ]
  },
  {
   "cell_type": "code",
   "execution_count": 10,
   "metadata": {
    "slideshow": {
     "slide_type": "slide"
    }
   },
   "outputs": [],
   "source": [
    "from numpy.core.umath_tests import inner1d\n",
    "from sklearn.model_selection import cross_val_score\n",
    "from sklearn.metrics import accuracy_score\n",
    "from sklearn.metrics import confusion_matrix, classification_report\n",
    "from sklearn.svm import SVC\n",
    "from sklearn.linear_model import LogisticRegression\n",
    "#from sklearn.neighbors import KNeighborsClassifier\n",
    "#from sklearn.linear_model import Ridge\n",
    "from sklearn.ensemble import RandomForestClassifier\n",
    "from sklearn.ensemble import GradientBoostingClassifier\n",
    "from sklearn.ensemble import AdaBoostClassifier\n",
    "from sklearn.naive_bayes import (BernoulliNB,GaussianNB,MultinomialNB)\n",
    "from xgboost import XGBClassifier\n",
    "\n",
    "X_train_sets= [] # List that will contain n_folds  clean  train sets \n",
    "X_val_sets= [] # List that will contain n_folds  clean  train sets \n",
    "y_train_sets= []\n",
    "y_val_sets= []\n",
    "for index in range(n_folds):\n",
    "    # Steps in each fold\n",
    "    train ,val , y_train, X_train , y_val , X_val = None,None,None,None,None,None\n",
    "    \n",
    "    # Train and val sets for this fold\n",
    "    train = train_sets[index]\n",
    "    val = val_sets[index]\n",
    "    # Train and validation dataframes for this fold \n",
    "    train = pd.DataFrame(train, columns=outbreaks_train.columns )    \n",
    "    val = pd.DataFrame(val, columns=outbreaks_train.columns )\n",
    "    \n",
    "    float_columns= ['Illnesses', 'Hospitalizations', 'Fatalities']\n",
    "\n",
    "    for column in float_columns: \n",
    "        train.loc[:,column]= to_float(train,column)\n",
    "        val.loc[:,column]= to_float(val,column)\n",
    "      \n",
    "    # Logarithmic scale for Illenesses\n",
    "    train[\"Log_Illnesses\"]=np.log(train.Illnesses)\n",
    "    val[\"Log_Illnesses\"]=np.log(val.Illnesses)\n",
    "    \n",
    "    #New columns, two classes: one class describes the outbreaks \n",
    "    #with less Illnesses than the median  and the another class \n",
    "    #outbreaks with more Illnesses than the median. To evoid data leaking the criteria that define \n",
    "    #the clases is calculated only in the train set\n",
    "    \n",
    "    # Median for the train set\n",
    "    global median_Log_Ill_train\n",
    "    median_Log_Ill_train=train[\"Log_Illnesses\"].median()\n",
    "\n",
    "    \n",
    "    train[\"A_lot_of_Ill\"] = A_lot_of_Ill(train[\"Log_Illnesses\"] )\n",
    "    val[\"A_lot_of_Ill\"] = A_lot_of_Ill(val[\"Log_Illnesses\"])\n",
    "    \n",
    "\n",
    "    \n",
    "    #Passing Hospitalizations and Fatalities to categorical variables.\n",
    "    train[\"Are_there_Hospitalizations\"] = two_classes(train, \"Hospitalizations\",thr=0.0)\n",
    "    val[\"Are_there_Hospitalizations\"] = two_classes(val, \"Hospitalizations\",thr=0.0)\n",
    "    # New columns \n",
    "    train[\"Are_there_Fatalities\"] = two_classes(train,\"Fatalities\",  0.0)\n",
    "    val[\"Are_there_Fatalities\"] = two_classes(val,\"Fatalities\",  0.0)\n",
    "\n",
    "    \n",
    "    \n",
    "    # Most common  elements for  the features 'Species', 'Location' and  'Food'\n",
    "  \n",
    "\n",
    "    categorical_cols = ['Species', 'Location']\n",
    "    n_classes = 10\n",
    "    # New columns with the most common entries\n",
    "    for feature in categorical_cols:\n",
    "        # Most common elements are generated in the train set\n",
    "        top=list(train[feature].value_counts().index)[:n_classes]\n",
    "        train[\"Most_common_\" + feature] = most_common(train,feature,top_classes=top)\n",
    "        val[\"Most_common_\" + feature] = most_common(val,feature,top_classes=top)\n",
    "        top = None\n",
    "        \n",
    "        \n",
    "\n",
    "    # Outliers \n",
    "    \n",
    "    # Removal of outliers from numerical columns\n",
    "    features = [\"Hospitalizations\",\"Fatalities\",\"Illnesses\"]\n",
    "    # Creating copies of the data\n",
    "    not_outliers_train = copy.deepcopy(train)\n",
    "    not_outliers_val = copy.deepcopy(val)\n",
    "    \n",
    "    for feature in features:\n",
    "        #For each feature outliers for train data are removed\n",
    "        without_outliers_train= not_outliers_column(not_outliers_train, train\n",
    "                                              , feature,threshold=99.9)\n",
    "        #For each feature outliers for validation  data are removed\n",
    "        without_outliers_val= not_outliers_column(not_outliers_val, train\n",
    "                                              , feature,threshold=99.9)\n",
    "        # Saving data in a temporary variable\n",
    "        temp_not_outliers_train= not_outliers_train.loc[without_outliers_train,:]\n",
    "        \n",
    "        temp_not_outliers_val= not_outliers_val.loc[without_outliers_val,:]\n",
    "        \n",
    "        #Erasing the  original dataset\n",
    "        not_outliers_train = None\n",
    "        not_outliers_val = None\n",
    "        \n",
    "        # Transferring temporal values\n",
    "        not_outliers_train = temp_not_outliers_train.loc[:,:]\n",
    "        not_outliers_val = temp_not_outliers_val.loc[:,:]\n",
    "        \n",
    "        #Cleaning memory\n",
    "        temp_not_outliers_train = None\n",
    "        temp_not_outliers_val = None\n",
    "        \n",
    "        \n",
    "        \n",
    "        \n",
    "        \n",
    "       \n",
    "    # Clean train and validation set\n",
    "    outbreaks_clasif_train=not_outliers_train[['Year', 'Month', 'State','A_lot_of_Ill', 'Are_there_Hospitalizations',\n",
    "                                               'Species', 'Location']]\n",
    "    outbreaks_clasif_val=not_outliers_val[['Year', 'Month', 'State','A_lot_of_Ill', 'Are_there_Hospitalizations',\n",
    "                                               'Species', 'Location']]\n",
    "    \n",
    "    \n",
    "    \n",
    "    \n",
    "    # Getting dummies\n",
    "    outbreaks_dummies_train= get_dummies(outbreaks_clasif_train,outbreaks_clasif_val)[0]\n",
    "    outbreaks_dummies_val = get_dummies(outbreaks_clasif_train,outbreaks_clasif_val)[1]\n",
    "    \n",
    "    #Now, the dataframe is machine learning ready \n",
    "    \n",
    "    # Separating predictors from the response variable for train and val sets\n",
    "    y_train = outbreaks_dummies_train['Are_there_Hospitalizations'].values.reshape(-1,1).ravel()\n",
    "    X_train = outbreaks_dummies_train.drop('Are_there_Hospitalizations', axis=1).values\n",
    "    y_val = outbreaks_dummies_val['Are_there_Hospitalizations'].values.reshape(-1,1).ravel()\n",
    "    X_val = outbreaks_dummies_val.drop('Are_there_Hospitalizations', axis=1).values\n",
    "    \n",
    "    # Machine learning ready\n",
    "    #Clean and  set data. n_folds pairs of train and val sets\n",
    "    X_train_sets.append(X_train)\n",
    "    y_train_sets.append(y_train)\n",
    "    X_val_sets.append(X_val)\n",
    "    y_val_sets.append(y_val)"
   ]
  },
  {
   "cell_type": "code",
   "execution_count": 11,
   "metadata": {
    "slideshow": {
     "slide_type": "slide"
    }
   },
   "outputs": [],
   "source": [
    "\n",
    "from sklearn.linear_model import LogisticRegression\n",
    "from sklearn.svm import SVC\n",
    "from imblearn.combine import SMOTEENN, SMOTETomek\n",
    "#from imblearn.under_sampling import RepeatedEditedNearestNeighbours,TomekLinks,AllKNN,NeighbourhoodCleaningRule,OneSidedSelection\n",
    "from sklearn.metrics import accuracy_score\n",
    "from sklearn.metrics import confusion_matrix, classification_report\n",
    "from imblearn.metrics import classification_report_imbalanced\n",
    "from itertools import product\n",
    "\n",
    "# Classification method\n",
    "def classifier(method,parameters):\n",
    "    # Params:\n",
    "    # method is the classification method to use\n",
    "    # parameters is the parameters for this method\n",
    "    \n",
    "    # Return:\n",
    "    # classifier object\n",
    "    \n",
    "    return method(**parameters)\n",
    "\n",
    "\n",
    "# Hyperparameters Mesh\n",
    "def param_grid(dict_parameters):\n",
    "    # This function takes a dictionary of hyperparameters  and \n",
    "    #return all posible combination of them \n",
    "    \n",
    "    #Params:\n",
    "    # dictionary of parameters,which takes the form: {\"parameter_name\": values}\n",
    "    \n",
    "    # Return:\n",
    "    #List of all comninations of parameters, where each element of the list is a dictionary\n",
    "    \n",
    "    # Initializations\n",
    "    \n",
    "    # List of all comninations of parameters\n",
    "    hyperparameter_combinations=[]\n",
    "    # List parameter values\n",
    "    params =[]\n",
    "    # List parameter names\n",
    "    param_names =[]\n",
    "    \n",
    "    # Filling lists\n",
    "    for key,value in dict_parameters.items():\n",
    "        param_names.append(key)\n",
    "        params.append(value)\n",
    "    # All combinations\n",
    "    combination_params = list(product(*params))\n",
    "    # Filling the list with all the combinations where each element of this list is a dictionary\n",
    "    for combination in combination_params:\n",
    "        hyperparameter= dict(zip(param_names,combination))\n",
    "        hyperparameter_combinations.append(hyperparameter)\n",
    "    # List of dictionaries\n",
    "    return hyperparameter_combinations \n",
    "\n",
    "\n",
    "\n",
    "#Evaluation metrics for all classes\n",
    "def metrics(y,y_pred):\n",
    "    # Compare predicted vs real values and return several evaluation metrics for each class.\n",
    "    \n",
    "    # Return:\n",
    "    #tuple with class0,class1,avg, accuracy  Where class0 and class1 return class label, \n",
    "    #precision, recal, f1_score for each of them. \n",
    "    #avg is the average of precision, recal, f1_score and accuracy is the accuracy.\n",
    "    \n",
    "    # Accuracy score\n",
    "    accuracy =accuracy_score(y, y_pred)\n",
    "    \n",
    "    # classification report\n",
    "    classif_report= classification_report(y, y_pred,digits=5)\n",
    "\n",
    "    #------------------------------------------------------------------\n",
    "    #Extract all float values. The first 4 elements are associated to class 0\n",
    "    #and the labels are as follow: class, precision, recall , f1_score\n",
    "    #For class1 is the same. \n",
    "    #The last 3 element are the average \n",
    "    \n",
    "    # Extracting float numbers\n",
    "    metrics_classes = re.findall(\"\\d+\\.\\d+\",classif_report)\n",
    "    \n",
    "    #------------------------------------------------------------------\n",
    "    #For class0\n",
    "    \n",
    "    #List with class label, precision, recal, f1_score\n",
    "    class0_str= metrics_classes[:4] \n",
    "    \n",
    "    #------------------------------------------------------------------\n",
    "    #For class1\n",
    "    \n",
    "    #List with class label, precision, recal, f1_score\n",
    "    class1_str = metrics_classes[4:8]\n",
    "    #------------------------------------------------------------------\n",
    "    # average\n",
    "    \n",
    "    avg_str = metrics_classes[8:]\n",
    "    \n",
    "    #Converting from string to float\n",
    "    #------------------------------------------------------------------\n",
    "    #For class0\n",
    "    class0= list(map(lambda x: float(x),class0_str))\n",
    "    \n",
    "    #------------------------------------------------------------------\n",
    "    #For class1\n",
    "    class1= list(map(lambda x: float(x),class1_str))\n",
    "    \n",
    "    # average\n",
    "    avg=list(map(lambda x: float(x),avg_str))\n",
    "    \n",
    "   \n",
    "    return class0, class1, avg, accuracy\n",
    "\n",
    "\n",
    "#SMOTE: over-sampling method that creates synthetic samples of the \n",
    "#minority class(In our case, outbtreaks with hospitalizations)\n",
    "\n",
    "def sampling(X_set,y_set, balanced=False):\n",
    "    # Creates synthetic samples of the minority class\n",
    "    # Params:\n",
    "    # X_set,y_set are the data\n",
    "    # If balanced = True  SMOTE is used\n",
    "    \n",
    "    # Return:\n",
    "    # Over-sampled dataset: x_res, y_res\n",
    "    # New minority class percentage\n",
    "    \n",
    "    \n",
    "    # Creating copies of the data\n",
    "    X_data, y_data = copy.deepcopy(X_set),copy.deepcopy(y_set)\n",
    "    \n",
    "    x_res, y_res = None,None\n",
    "    \n",
    "    # SMOTE object\n",
    "    sm = SMOTEENN(ratio = \"auto\")\n",
    "    \n",
    "    # Condition to use SMOTE   \n",
    "    if balanced== True:\n",
    "        #Sampling and balancing the train data\n",
    "        x_res, y_res = sm.fit_sample(X_data, y_data)\n",
    "    else:\n",
    "        x_res, y_res= X_data, y_data\n",
    "        \n",
    "    return x_res, y_res, 100.0*y_res.sum()/y_res.shape[0]\n",
    "\n",
    "\n",
    "\n",
    "#Evaluation metrics for each combination of parameters       \n",
    "def scores_grid(method=BernoulliNB, dict_parameters={'alpha': [1]}):\n",
    "    #For a given method and set of parameters, this function returns several \n",
    "    #evaluation metrics for each combination of these parameters.\n",
    "    \n",
    "    # Params:\n",
    "    # method is our classification method\n",
    "    # dict_parameters are the parameters\n",
    "    \n",
    "    #Return:\n",
    "    # class0_metrics are  class label, precision, recal, f1_score, accuracy for each combination of parameters\n",
    "    # class1_metrics are the same that class0_metrics but for class 0. Finally, accuracy is 2D \n",
    "    #array where first column is the accuracy for training set and 2nd column is for the validation set\n",
    "    \n",
    "    \n",
    "    # Evaluation metrics for each combination of parameters\n",
    "    # Initialization of the lists with the evaluation metrics\n",
    "    \n",
    "    #Class 0\n",
    "    class0_metrics =[]\n",
    "    #Class 1\n",
    "    class1_metrics=[]\n",
    "    \n",
    "    # Accuracy\n",
    "    accuracy=[]\n",
    "    \n",
    "    #Loop for all combination of parameters\n",
    "    for param_set in param_grid(dict_parameters):\n",
    "        #Classifier\n",
    "        clf= classifier(method,param_set)\n",
    "        \n",
    "        # Initialization of metrics  per set of parameters\n",
    "        \n",
    "        sum_scores_recall_train_c1, sum_scores_recall_val_c1= (0,0)\n",
    "        sum_scores_f1_train_c1, sum_scores_f1_val_c1= (0,0)\n",
    "        \n",
    "        sum_scores_recall_train_c0, sum_scores_recall_val_c0= (0,0)\n",
    "        sum_scores_f1_train_c0, sum_scores_f1_val_c0= (0,0)\n",
    "        \n",
    "        # Accuracy\n",
    "        sum_scores_accuracy_train,sum_scores_accuracy_val = (0,0)\n",
    "        \n",
    "        # Folds\n",
    "        for fold in range(n_folds):\n",
    "            # Data\n",
    "            X_train, y_train, X_val, y_val =None,None,None,None\n",
    "            y_pred_train,y_pred_val,val_scores,train_scores = None,None,None,None\n",
    "            \n",
    "            # Data for fold \n",
    "            X_train, y_train = X_train_sampled[fold], y_train_sampled[fold]\n",
    "            X_val, y_val= X_val_sets[fold], y_val_sets[fold]\n",
    "            \n",
    "            # Fit and predict   \n",
    "            clf.fit(X_train, y_train)\n",
    "            y_pred_train = clf.predict(X_train_sets[fold])\n",
    "            y_pred_val = clf.predict(X_val)\n",
    "            \n",
    "            # Metrics\n",
    "            val_scores = metrics(y_val,y_pred_val)\n",
    "            train_scores = metrics(y_train_sets[fold],y_pred_train)\n",
    "            \n",
    "            #class 1------------------------------------------------------\n",
    "            #recall\n",
    "            sum_scores_recall_val_c1 +=  val_scores[1][2] \n",
    "            sum_scores_recall_train_c1 +=  train_scores[1][2]\n",
    "            \n",
    "            #f1\n",
    "            sum_scores_f1_val_c1 +=val_scores[1][3]\n",
    "            sum_scores_f1_train_c1 +=train_scores[1][3]\n",
    "            \n",
    "             #class 0 ------------------------------------------------------\n",
    "            #Recall\n",
    "            sum_scores_recall_val_c0 +=  val_scores[0][2]\n",
    "            sum_scores_recall_train_c0 +=  train_scores[0][2]\n",
    "            #f1\n",
    "            sum_scores_f1_train_c0 +=train_scores[0][3]\n",
    "            sum_scores_f1_val_c0 +=val_scores[0][3]\n",
    "            \n",
    "            #Accuracy\n",
    "            sum_scores_accuracy_train += train_scores[3]\n",
    "            sum_scores_accuracy_val +=val_scores[3]\n",
    "            \n",
    "        \n",
    "        # Metrics  for each  set of parameters\n",
    "        #Class0 ------------------------------------------------------\n",
    "        \n",
    "        #Recall\n",
    "        recall_val_c0 = 100.0*sum_scores_recall_val_c0/n_folds\n",
    "        recall_train_c0 = 100.0*sum_scores_recall_train_c0/n_folds\n",
    "        \n",
    "        #f1\n",
    "        f1_val_c0 = 100.0*sum_scores_f1_val_c0/n_folds\n",
    "        f1_train_c0 = 100.0*sum_scores_f1_train_c0/n_folds\n",
    "        \n",
    "        # List of metrics \n",
    "        class0_metrics.append([recall_train_c0,recall_val_c0,\\\n",
    "                               f1_train_c0,f1_val_c0,param_set])\n",
    "        \n",
    "        \n",
    "        \n",
    "        #Class1 ------------------------------------------------------\n",
    "        #Recall\n",
    "        recall_val_c1 = 100.0*sum_scores_recall_val_c1/n_folds\n",
    "        recall_train_c1 = 100.0*sum_scores_recall_train_c1/n_folds\n",
    "        #f1\n",
    "        f1_val_c1 = 100.0*sum_scores_f1_val_c1/n_folds\n",
    "        f1_train_c1 = 100.0*sum_scores_f1_train_c1/n_folds\n",
    "        \n",
    "        # List of metrics \n",
    "        class1_metrics.append([recall_train_c1,recall_val_c1,\\\n",
    "                                f1_train_c1,f1_val_c1,param_set])\n",
    "        \n",
    "        accuracy_train =100.0* sum_scores_accuracy_train/n_folds\n",
    "        accuracy_val = 100.0* sum_scores_accuracy_val/n_folds\n",
    "        accuracy.append([accuracy_train,accuracy_val,param_set])\n",
    "        \n",
    "        \n",
    "        \n",
    "        \n",
    "    return np.array(class0_metrics), np.array(class1_metrics),np.array(accuracy)\n",
    "\n",
    "# Dataframe with evaluation metrics for each parameter\n",
    "def metrics_dataframe(metrics_class):\n",
    "    \n",
    "    # Params:\n",
    "    # metrics_class is class label, precision, recal, f1_score for chosen class\n",
    "    \n",
    "    #Return:\n",
    "    # Dataframe with columns parameters, recall_train, recall_val, f1_train, f1_val\n",
    "    \n",
    "    \n",
    "    # Dataframe with the metrics values \n",
    "    metrics_df=pd.DataFrame(metrics_class[:,:-1],\\\n",
    "                            columns=[\"recall_train\",\"recall_val\",\"f1_train\",\"f1_val\"])\n",
    "    # Parameters values\n",
    "    param_dicts=metrics_class[:,-1]\n",
    "    # Dataframe  of parameters\n",
    "    parameters_df= pd.DataFrame.from_dict(list(param_dicts))\n",
    "    \n",
    "    return pd.concat([parameters_df,metrics_df],axis=1)\n",
    "\n",
    "\n",
    "# Dataframe with the accuracy metric for each parameter\n",
    "def acc_plot(acc_array):\n",
    "    # Create a dataframe with accuracy for train and validation \n",
    "    \n",
    "    # Params:\n",
    "    # acc_array contains the accuracy for train and validation datasets for each combination of parameters\n",
    "    \n",
    "    #Return:\n",
    "    # Dataframe with columns parameters, accuracy train, accuracy validation and the columns of parameters\n",
    "    \n",
    "\n",
    "    \n",
    "    # Accuracy for training\n",
    "    acc_values=pd.DataFrame(acc_array[2][:,:2],columns=['acc_train','acc_val'])\n",
    "\n",
    "    # Parameters values\n",
    "    parameter_values = pd.DataFrame(list(acc_array[2][:,-1]))\n",
    "    \n",
    "    # concatenate accuracy values and parameters\n",
    "    acc_dataframe = pd.concat([parameter_values, acc_values],axis=1)\n",
    "    return  acc_dataframe\n",
    "\n",
    "\n",
    "\n",
    "def plot_metric_behaviour(dataframe,var_param,metric,fixed_param=None,step=3):\n",
    "    \n",
    "    # Plots of var_param vs metric for different values of fixed_param\n",
    "    \n",
    "    #Params:\n",
    "    \n",
    "    # dataframe is a dataframe with the evaluation metric for a given class\n",
    "    # var_param is the parameter to be plotted with respect to metric\n",
    "    #metric is evaluation metric of interest\n",
    "    # fixed_param is the parameter that is fixed for each var_param curve.\n",
    "    # If the classifier has only one hyperparameter fixed_param =None\n",
    "    #step defines the values to be used of fixed_param\n",
    "    \n",
    "    #Return:\n",
    "    #Plot of var_param vs metric for each fixed_param\n",
    "    \n",
    "    \n",
    "    df_metrics = dataframe.copy()\n",
    "    \n",
    "    # Condition that asks if the classifier has more than one hyperparameter\n",
    "    if fixed_param != None:\n",
    "        for fixed_p in df_metrics[fixed_param].unique()[::step]:\n",
    "            \n",
    "            temp_fixed_p = None\n",
    "            # subset od data for each fixed_param\n",
    "            temp_fixed_p= df_metrics[df_metrics[fixed_param]==fixed_p]\n",
    "            \n",
    "            label=  fixed_param  + \"_ \" + str(fixed_p)\n",
    "            # Plots\n",
    "            plt.plot(temp_fixed_p[var_param],temp_fixed_p[metric],label=label)\n",
    "        \n",
    "        \n",
    "    else:\n",
    "        # This case is when the classifier has only one hyperparameter\n",
    "        plt.plot(df_metrics[var_param],df_metrics[metric],label=var_param)\n",
    "    \n",
    "    #Plot labels\n",
    "    plt.xlabel(var_param)\n",
    "    plt.ylabel(metric + \" (%)\")\n",
    "    plt.title(metric)\n",
    "    plt.legend()\n",
    "    plt.show()\n",
    "    \n",
    "\n",
    "    \n",
    "def plot_learning_curve(dataframe,var_param, metric,fixed_param=None,value=None):\n",
    "    \n",
    "    # Plots of var_param vs metric for different values of fixed_param\n",
    "    \n",
    "    #Params:\n",
    "    \n",
    "    # dataframe is a dataframe with the evaluation metric for a given class\n",
    "    # var_param is the parameter to be plotted with respect to metric\n",
    "    #metric is evaluation metric of interest\n",
    "    # fixed_param is the parameter that is fixed for each  curve.\n",
    "    # If the classifier has only one hyperparameter fixed_param =None\n",
    "    #value is the value of fixed_param\n",
    "    \n",
    "    #Return:\n",
    "    #Plot with learning curves, train and validation sets. Each curve is a plot of \n",
    "    #var_param vs metric for the same fixed_param \n",
    "    \n",
    "    df_metrics = dataframe.copy()\n",
    "    if value != None:\n",
    "        temp_fixed_p= df_metrics[df_metrics[fixed_param]==value]\n",
    "        title= metric + \" with \" + fixed_param + \" = \" + str(value)\n",
    "        # Train metric\n",
    "        plt.plot(temp_fixed_p[var_param],temp_fixed_p[metric +\"_train\" ],label=\"train\")\n",
    "        # Validation metric\n",
    "        plt.plot(temp_fixed_p[var_param],temp_fixed_p[metric +\"_val\" ],label=\"val\")\n",
    "\n",
    "    else:\n",
    "        title= metric \n",
    "        # Train metric\n",
    "        plt.plot(df_metrics[var_param],df_metrics[metric +\"_train\" ],label=\"train\")\n",
    "        # Validation metric\n",
    "        plt.plot(df_metrics[var_param],df_metrics[metric +\"_val\" ],label=\"val\")\n",
    "\n",
    "        \n",
    "    #Plot labels   \n",
    "    plt.xlabel(var_param)\n",
    "    plt.ylabel(metric + \" (%)\")\n",
    "    plt.title(title)\n",
    "    plt.legend()\n",
    "    plt.show()\n",
    "        \n",
    "        "
   ]
  },
  {
   "cell_type": "code",
   "execution_count": 12,
   "metadata": {
    "slideshow": {
     "slide_type": "skip"
    }
   },
   "outputs": [],
   "source": [
    "np.random.seed(123)\n",
    "global X_train_sampled\n",
    "global y_train_sampled\n",
    "\n",
    "# Sampled train sets \n",
    "X_train_sampled, y_train_sampled =[],[]\n",
    "\n",
    "#Minority class percentage list\n",
    "ratio_list = []\n",
    "np.random.seed(123)\n",
    "for fold in range(n_folds):\n",
    "    \n",
    "    X_temp,y_temp=None,None\n",
    "    # Use SMOTE(over-sampling method)  if balanced=False\n",
    "    X_temp,y_temp,ratio=sampling(X_train_sets[fold],y_train_sets[fold], balanced=False)\n",
    "    \n",
    "    # Append to a over-sampled dataset\n",
    "    X_train_sampled.append(X_temp)\n",
    "    y_train_sampled.append(y_temp)\n",
    "    \n",
    "    #Minority class percentage\n",
    "    ratio_list.append(ratio)"
   ]
  },
  {
   "cell_type": "markdown",
   "metadata": {
    "slideshow": {
     "slide_type": "slide"
    }
   },
   "source": [
    "Let us see the performance of our model with Random forest"
   ]
  },
  {
   "cell_type": "code",
   "execution_count": 13,
   "metadata": {
    "slideshow": {
     "slide_type": "subslide"
    }
   },
   "outputs": [],
   "source": [
    "# Random forest hyperparameters\n",
    "n_estimators =list(map(np.int, np.logspace(1,1.8,2)))\n",
    "\n",
    "max_depth =list(set(map(np.int, np.linspace(8,15,30))))"
   ]
  },
  {
   "cell_type": "code",
   "execution_count": 14,
   "metadata": {
    "slideshow": {
     "slide_type": "skip"
    }
   },
   "outputs": [],
   "source": [
    "# Random forest evaluation metrics\n",
    "# rf index 0 is metrics for class 0, index 1 is for class 1 and index 2 is the accuracy\n",
    "rf= scores_grid(RandomForestClassifier,{'n_estimators':n_estimators ,'max_depth': max_depth})"
   ]
  },
  {
   "cell_type": "code",
   "execution_count": 15,
   "metadata": {
    "slideshow": {
     "slide_type": "slide"
    }
   },
   "outputs": [
    {
     "data": {
      "text/html": [
       "<div>\n",
       "<style scoped>\n",
       "    .dataframe tbody tr th:only-of-type {\n",
       "        vertical-align: middle;\n",
       "    }\n",
       "\n",
       "    .dataframe tbody tr th {\n",
       "        vertical-align: top;\n",
       "    }\n",
       "\n",
       "    .dataframe thead th {\n",
       "        text-align: right;\n",
       "    }\n",
       "</style>\n",
       "<table border=\"1\" class=\"dataframe\">\n",
       "  <thead>\n",
       "    <tr style=\"text-align: right;\">\n",
       "      <th></th>\n",
       "      <th>max_depth</th>\n",
       "      <th>n_estimators</th>\n",
       "      <th>recall_train</th>\n",
       "      <th>recall_val</th>\n",
       "      <th>f1_train</th>\n",
       "      <th>f1_val</th>\n",
       "    </tr>\n",
       "  </thead>\n",
       "  <tbody>\n",
       "    <tr>\n",
       "      <th>0</th>\n",
       "      <td>8</td>\n",
       "      <td>10</td>\n",
       "      <td>99.5417</td>\n",
       "      <td>99.33</td>\n",
       "      <td>84.7857</td>\n",
       "      <td>84.5227</td>\n",
       "    </tr>\n",
       "    <tr>\n",
       "      <th>1</th>\n",
       "      <td>9</td>\n",
       "      <td>10</td>\n",
       "      <td>99.7537</td>\n",
       "      <td>99.574</td>\n",
       "      <td>84.7053</td>\n",
       "      <td>84.392</td>\n",
       "    </tr>\n",
       "    <tr>\n",
       "      <th>2</th>\n",
       "      <td>10</td>\n",
       "      <td>10</td>\n",
       "      <td>99.6427</td>\n",
       "      <td>99.3817</td>\n",
       "      <td>84.8637</td>\n",
       "      <td>84.4297</td>\n",
       "    </tr>\n",
       "    <tr>\n",
       "      <th>3</th>\n",
       "      <td>11</td>\n",
       "      <td>10</td>\n",
       "      <td>99.425</td>\n",
       "      <td>98.9657</td>\n",
       "      <td>85.3253</td>\n",
       "      <td>84.744</td>\n",
       "    </tr>\n",
       "    <tr>\n",
       "      <th>4</th>\n",
       "      <td>12</td>\n",
       "      <td>10</td>\n",
       "      <td>98.8923</td>\n",
       "      <td>98.011</td>\n",
       "      <td>85.747</td>\n",
       "      <td>84.7857</td>\n",
       "    </tr>\n",
       "  </tbody>\n",
       "</table>\n",
       "</div>"
      ],
      "text/plain": [
       "   max_depth  n_estimators recall_train recall_val f1_train   f1_val\n",
       "0          8            10      99.5417      99.33  84.7857  84.5227\n",
       "1          9            10      99.7537     99.574  84.7053   84.392\n",
       "2         10            10      99.6427    99.3817  84.8637  84.4297\n",
       "3         11            10       99.425    98.9657  85.3253   84.744\n",
       "4         12            10      98.8923     98.011   85.747  84.7857"
      ]
     },
     "execution_count": 15,
     "metadata": {},
     "output_type": "execute_result"
    }
   ],
   "source": [
    "# Dataframe of parameters, recall and f_values for class 0\n",
    "rf_metrics= metrics_dataframe(rf[0])\n",
    "rf_metrics.head()"
   ]
  },
  {
   "cell_type": "markdown",
   "metadata": {
    "slideshow": {
     "slide_type": "skip"
    }
   },
   "source": [
    "The graphs below show how metrics change with the parameters. "
   ]
  },
  {
   "cell_type": "code",
   "execution_count": 16,
   "metadata": {
    "slideshow": {
     "slide_type": "slide"
    }
   },
   "outputs": [
    {
     "data": {
      "image/png": "[encoded data removed]",
      "text/plain": [
       "<Figure size 432x288 with 1 Axes>"
      ]
     },
     "metadata": {},
     "output_type": "display_data"
    }
   ],
   "source": [
    "plot_metric_behaviour(rf_metrics,\"max_depth\", \"recall_train\",\"n_estimators\",2)"
   ]
  },
  {
   "cell_type": "markdown",
   "metadata": {
    "slideshow": {
     "slide_type": "slide"
    }
   },
   "source": [
    "Learning curves"
   ]
  },
  {
   "cell_type": "code",
   "execution_count": 17,
   "metadata": {
    "slideshow": {
     "slide_type": "subslide"
    }
   },
   "outputs": [
    {
     "data": {
      "image/png": "[encoded data removed]",
      "text/plain": [
       "<Figure size 432x288 with 1 Axes>"
      ]
     },
     "metadata": {},
     "output_type": "display_data"
    },
    {
     "data": {
      "image/png": "[encoded data removed]",
      "text/plain": [
       "<Figure size 432x288 with 1 Axes>"
      ]
     },
     "metadata": {},
     "output_type": "display_data"
    }
   ],
   "source": [
    "for param in max_depth[::4]:\n",
    "    plot_learning_curve(rf_metrics,\"n_estimators\", \"recall\",\"max_depth\",param)"
   ]
  },
  {
   "cell_type": "markdown",
   "metadata": {},
   "source": [
    "Let us use a baseline model where all outbreaks cause hospitalizations.\n"
   ]
  },
  {
   "cell_type": "code",
   "execution_count": 18,
   "metadata": {
    "slideshow": {
     "slide_type": "slide"
    }
   },
   "outputs": [
    {
     "name": "stdout",
     "output_type": "stream",
     "text": [
      "Baseline model: outbreaks without hosp, accuracy: 72.37%.\n"
     ]
    }
   ],
   "source": [
    "# In this case the accuracy of such model is calculated as follow\n",
    "base_acc =100.0*(1-outbreaks_train.Are_there_Hospitalizations.sum()/outbreaks_train.shape[0])\n",
    "\n",
    "print('Baseline model: outbreaks without hosp, accuracy: {:.2f}%.'.format(base_acc))\n",
    "\n"
   ]
  },
  {
   "cell_type": "code",
   "execution_count": 19,
   "metadata": {
    "slideshow": {
     "slide_type": "skip"
    }
   },
   "outputs": [
    {
     "data": {
      "text/html": [
       "<div>\n",
       "<style scoped>\n",
       "    .dataframe tbody tr th:only-of-type {\n",
       "        vertical-align: middle;\n",
       "    }\n",
       "\n",
       "    .dataframe tbody tr th {\n",
       "        vertical-align: top;\n",
       "    }\n",
       "\n",
       "    .dataframe thead th {\n",
       "        text-align: right;\n",
       "    }\n",
       "</style>\n",
       "<table border=\"1\" class=\"dataframe\">\n",
       "  <thead>\n",
       "    <tr style=\"text-align: right;\">\n",
       "      <th></th>\n",
       "      <th>max_depth</th>\n",
       "      <th>n_estimators</th>\n",
       "      <th>acc_train</th>\n",
       "      <th>acc_val</th>\n",
       "    </tr>\n",
       "  </thead>\n",
       "  <tbody>\n",
       "    <tr>\n",
       "      <th>0</th>\n",
       "      <td>8</td>\n",
       "      <td>10</td>\n",
       "      <td>74.1048</td>\n",
       "      <td>73.6318</td>\n",
       "    </tr>\n",
       "    <tr>\n",
       "      <th>1</th>\n",
       "      <td>9</td>\n",
       "      <td>10</td>\n",
       "      <td>73.8948</td>\n",
       "      <td>73.3021</td>\n",
       "    </tr>\n",
       "    <tr>\n",
       "      <th>2</th>\n",
       "      <td>10</td>\n",
       "      <td>10</td>\n",
       "      <td>74.2416</td>\n",
       "      <td>73.4285</td>\n",
       "    </tr>\n",
       "    <tr>\n",
       "      <th>3</th>\n",
       "      <td>11</td>\n",
       "      <td>10</td>\n",
       "      <td>75.2153</td>\n",
       "      <td>74.1708</td>\n",
       "    </tr>\n",
       "    <tr>\n",
       "      <th>4</th>\n",
       "      <td>12</td>\n",
       "      <td>10</td>\n",
       "      <td>76.1751</td>\n",
       "      <td>74.5001</td>\n",
       "    </tr>\n",
       "    <tr>\n",
       "      <th>5</th>\n",
       "      <td>13</td>\n",
       "      <td>10</td>\n",
       "      <td>76.6797</td>\n",
       "      <td>74.7526</td>\n",
       "    </tr>\n",
       "    <tr>\n",
       "      <th>6</th>\n",
       "      <td>14</td>\n",
       "      <td>10</td>\n",
       "      <td>76.2871</td>\n",
       "      <td>74.4304</td>\n",
       "    </tr>\n",
       "    <tr>\n",
       "      <th>7</th>\n",
       "      <td>15</td>\n",
       "      <td>10</td>\n",
       "      <td>77.6497</td>\n",
       "      <td>74.8086</td>\n",
       "    </tr>\n",
       "    <tr>\n",
       "      <th>8</th>\n",
       "      <td>8</td>\n",
       "      <td>63</td>\n",
       "      <td>73.4185</td>\n",
       "      <td>73.3022</td>\n",
       "    </tr>\n",
       "    <tr>\n",
       "      <th>9</th>\n",
       "      <td>9</td>\n",
       "      <td>63</td>\n",
       "      <td>73.6742</td>\n",
       "      <td>73.5122</td>\n",
       "    </tr>\n",
       "    <tr>\n",
       "      <th>10</th>\n",
       "      <td>10</td>\n",
       "      <td>63</td>\n",
       "      <td>73.9579</td>\n",
       "      <td>73.5964</td>\n",
       "    </tr>\n",
       "    <tr>\n",
       "      <th>11</th>\n",
       "      <td>11</td>\n",
       "      <td>63</td>\n",
       "      <td>74.5394</td>\n",
       "      <td>73.7505</td>\n",
       "    </tr>\n",
       "    <tr>\n",
       "      <th>12</th>\n",
       "      <td>12</td>\n",
       "      <td>63</td>\n",
       "      <td>74.7004</td>\n",
       "      <td>73.9749</td>\n",
       "    </tr>\n",
       "    <tr>\n",
       "      <th>13</th>\n",
       "      <td>13</td>\n",
       "      <td>63</td>\n",
       "      <td>75.5728</td>\n",
       "      <td>74.1218</td>\n",
       "    </tr>\n",
       "    <tr>\n",
       "      <th>14</th>\n",
       "      <td>14</td>\n",
       "      <td>63</td>\n",
       "      <td>76.4413</td>\n",
       "      <td>74.3462</td>\n",
       "    </tr>\n",
       "    <tr>\n",
       "      <th>15</th>\n",
       "      <td>15</td>\n",
       "      <td>63</td>\n",
       "      <td>77.3344</td>\n",
       "      <td>74.7526</td>\n",
       "    </tr>\n",
       "  </tbody>\n",
       "</table>\n",
       "</div>"
      ],
      "text/plain": [
       "    max_depth  n_estimators acc_train  acc_val\n",
       "0           8            10   74.1048  73.6318\n",
       "1           9            10   73.8948  73.3021\n",
       "2          10            10   74.2416  73.4285\n",
       "3          11            10   75.2153  74.1708\n",
       "4          12            10   76.1751  74.5001\n",
       "5          13            10   76.6797  74.7526\n",
       "6          14            10   76.2871  74.4304\n",
       "7          15            10   77.6497  74.8086\n",
       "8           8            63   73.4185  73.3022\n",
       "9           9            63   73.6742  73.5122\n",
       "10         10            63   73.9579  73.5964\n",
       "11         11            63   74.5394  73.7505\n",
       "12         12            63   74.7004  73.9749\n",
       "13         13            63   75.5728  74.1218\n",
       "14         14            63   76.4413  74.3462\n",
       "15         15            63   77.3344  74.7526"
      ]
     },
     "execution_count": 19,
     "metadata": {},
     "output_type": "execute_result"
    }
   ],
   "source": [
    "# Dataframe with accuracy for each set of parameters\n",
    "acc_plot(rf)"
   ]
  },
  {
   "cell_type": "code",
   "execution_count": 20,
   "metadata": {
    "slideshow": {
     "slide_type": "slide"
    }
   },
   "outputs": [
    {
     "data": {
      "image/png": "[encoded data removed]",
      "text/plain": [
       "<Figure size 432x288 with 1 Axes>"
      ]
     },
     "metadata": {},
     "output_type": "display_data"
    }
   ],
   "source": [
    "# Plot of accuracy \n",
    "plot_metric_behaviour(acc_plot(rf),'max_depth','acc_val','n_estimators',step=1)"
   ]
  },
  {
   "cell_type": "markdown",
   "metadata": {},
   "source": [
    "Here, the accuracy increases by 2% with respect to baseline model."
   ]
  },
  {
   "cell_type": "markdown",
   "metadata": {
    "slideshow": {
     "slide_type": "slide"
    }
   },
   "source": [
    "Let us assess the Naive Bayes method."
   ]
  },
  {
   "cell_type": "code",
   "execution_count": 21,
   "metadata": {},
   "outputs": [],
   "source": [
    "# Parameters\n",
    "params= np.linspace(0.01,1.0,10)\n",
    "# Model\n",
    "ber= scores_grid(BernoulliNB,{\"alpha\":params})"
   ]
  },
  {
   "cell_type": "code",
   "execution_count": 22,
   "metadata": {
    "slideshow": {
     "slide_type": "slide"
    }
   },
   "outputs": [
    {
     "data": {
      "text/html": [
       "<div>\n",
       "<style scoped>\n",
       "    .dataframe tbody tr th:only-of-type {\n",
       "        vertical-align: middle;\n",
       "    }\n",
       "\n",
       "    .dataframe tbody tr th {\n",
       "        vertical-align: top;\n",
       "    }\n",
       "\n",
       "    .dataframe thead th {\n",
       "        text-align: right;\n",
       "    }\n",
       "</style>\n",
       "<table border=\"1\" class=\"dataframe\">\n",
       "  <thead>\n",
       "    <tr style=\"text-align: right;\">\n",
       "      <th></th>\n",
       "      <th>alpha</th>\n",
       "      <th>recall_train</th>\n",
       "      <th>recall_val</th>\n",
       "      <th>f1_train</th>\n",
       "      <th>f1_val</th>\n",
       "    </tr>\n",
       "  </thead>\n",
       "  <tbody>\n",
       "    <tr>\n",
       "      <th>0</th>\n",
       "      <td>0.01</td>\n",
       "      <td>90.303</td>\n",
       "      <td>89.1727</td>\n",
       "      <td>85.5737</td>\n",
       "      <td>84.6277</td>\n",
       "    </tr>\n",
       "    <tr>\n",
       "      <th>1</th>\n",
       "      <td>0.12</td>\n",
       "      <td>90.3373</td>\n",
       "      <td>89.308</td>\n",
       "      <td>85.5663</td>\n",
       "      <td>84.69</td>\n",
       "    </tr>\n",
       "    <tr>\n",
       "      <th>2</th>\n",
       "      <td>0.23</td>\n",
       "      <td>90.3997</td>\n",
       "      <td>89.376</td>\n",
       "      <td>85.5657</td>\n",
       "      <td>84.7037</td>\n",
       "    </tr>\n",
       "    <tr>\n",
       "      <th>3</th>\n",
       "      <td>0.34</td>\n",
       "      <td>90.4773</td>\n",
       "      <td>89.4633</td>\n",
       "      <td>85.5507</td>\n",
       "      <td>84.7437</td>\n",
       "    </tr>\n",
       "    <tr>\n",
       "      <th>4</th>\n",
       "      <td>0.45</td>\n",
       "      <td>90.525</td>\n",
       "      <td>89.531</td>\n",
       "      <td>85.5453</td>\n",
       "      <td>84.7537</td>\n",
       "    </tr>\n",
       "  </tbody>\n",
       "</table>\n",
       "</div>"
      ],
      "text/plain": [
       "   alpha recall_train recall_val f1_train   f1_val\n",
       "0   0.01       90.303    89.1727  85.5737  84.6277\n",
       "1   0.12      90.3373     89.308  85.5663    84.69\n",
       "2   0.23      90.3997     89.376  85.5657  84.7037\n",
       "3   0.34      90.4773    89.4633  85.5507  84.7437\n",
       "4   0.45       90.525     89.531  85.5453  84.7537"
      ]
     },
     "execution_count": 22,
     "metadata": {},
     "output_type": "execute_result"
    }
   ],
   "source": [
    "# Dataframe of metrics\n",
    "ber_metrics= metrics_dataframe(ber[0])\n",
    "ber_metrics.head()"
   ]
  },
  {
   "cell_type": "code",
   "execution_count": 23,
   "metadata": {
    "slideshow": {
     "slide_type": "slide"
    }
   },
   "outputs": [
    {
     "data": {
      "image/png": "[encoded data removed]",
      "text/plain": [
       "<Figure size 432x288 with 1 Axes>"
      ]
     },
     "metadata": {},
     "output_type": "display_data"
    }
   ],
   "source": [
    "# Plot f1 score for validation data\n",
    "plot_metric_behaviour(ber_metrics, \"alpha\", \"f1_val\",None,2)"
   ]
  },
  {
   "cell_type": "code",
   "execution_count": 24,
   "metadata": {
    "slideshow": {
     "slide_type": "skip"
    }
   },
   "outputs": [
    {
     "data": {
      "image/png": "[encoded data removed]",
      "text/plain": [
       "<Figure size 432x288 with 1 Axes>"
      ]
     },
     "metadata": {},
     "output_type": "display_data"
    }
   ],
   "source": [
    "#Learning curve for f1 score\n",
    "plot_learning_curve(ber_metrics,\"alpha\", \"f1\",None,None)"
   ]
  },
  {
   "cell_type": "code",
   "execution_count": 25,
   "metadata": {
    "slideshow": {
     "slide_type": "slide"
    }
   },
   "outputs": [
    {
     "data": {
      "image/png": "[encoded data removed]",
      "text/plain": [
       "<Figure size 432x288 with 1 Axes>"
      ]
     },
     "metadata": {},
     "output_type": "display_data"
    }
   ],
   "source": [
    "# Plot of accuracy \n",
    "plot_metric_behaviour(acc_plot(ber),'alpha','acc_val',step=1)"
   ]
  },
  {
   "cell_type": "markdown",
   "metadata": {
    "slideshow": {
     "slide_type": "skip"
    }
   },
   "source": [
    "Here, the accuracy increases by 4% with respect to baseline model."
   ]
  },
  {
   "cell_type": "markdown",
   "metadata": {
    "slideshow": {
     "slide_type": "slide"
    }
   },
   "source": [
    "Logistic regression."
   ]
  },
  {
   "cell_type": "code",
   "execution_count": 26,
   "metadata": {
    "slideshow": {
     "slide_type": "skip"
    }
   },
   "outputs": [],
   "source": [
    "# Parameters\n",
    "Cs= np.linspace(0.1,10.0,10)\n",
    "\n",
    "plty= [\"l1\",\"l2\"]\n",
    "# Logistic regression algorithm\n",
    "lreg= scores_grid(LogisticRegression,{\"penalty\":plty,\"C\":Cs})"
   ]
  },
  {
   "cell_type": "code",
   "execution_count": 27,
   "metadata": {
    "slideshow": {
     "slide_type": "skip"
    }
   },
   "outputs": [
    {
     "data": {
      "text/html": [
       "<div>\n",
       "<style scoped>\n",
       "    .dataframe tbody tr th:only-of-type {\n",
       "        vertical-align: middle;\n",
       "    }\n",
       "\n",
       "    .dataframe tbody tr th {\n",
       "        vertical-align: top;\n",
       "    }\n",
       "\n",
       "    .dataframe thead th {\n",
       "        text-align: right;\n",
       "    }\n",
       "</style>\n",
       "<table border=\"1\" class=\"dataframe\">\n",
       "  <thead>\n",
       "    <tr style=\"text-align: right;\">\n",
       "      <th></th>\n",
       "      <th>C</th>\n",
       "      <th>penalty</th>\n",
       "      <th>recall_train</th>\n",
       "      <th>recall_val</th>\n",
       "      <th>f1_train</th>\n",
       "      <th>f1_val</th>\n",
       "    </tr>\n",
       "  </thead>\n",
       "  <tbody>\n",
       "    <tr>\n",
       "      <th>0</th>\n",
       "      <td>0.1</td>\n",
       "      <td>l1</td>\n",
       "      <td>93.977</td>\n",
       "      <td>93.9403</td>\n",
       "      <td>85.2893</td>\n",
       "      <td>85.1777</td>\n",
       "    </tr>\n",
       "    <tr>\n",
       "      <th>1</th>\n",
       "      <td>1.2</td>\n",
       "      <td>l1</td>\n",
       "      <td>92.7973</td>\n",
       "      <td>92.3467</td>\n",
       "      <td>85.7797</td>\n",
       "      <td>85.2527</td>\n",
       "    </tr>\n",
       "    <tr>\n",
       "      <th>2</th>\n",
       "      <td>2.3</td>\n",
       "      <td>l1</td>\n",
       "      <td>92.826</td>\n",
       "      <td>92.123</td>\n",
       "      <td>86.1127</td>\n",
       "      <td>85.1683</td>\n",
       "    </tr>\n",
       "    <tr>\n",
       "      <th>3</th>\n",
       "      <td>3.4</td>\n",
       "      <td>l1</td>\n",
       "      <td>92.9087</td>\n",
       "      <td>91.9967</td>\n",
       "      <td>86.1867</td>\n",
       "      <td>85.1473</td>\n",
       "    </tr>\n",
       "    <tr>\n",
       "      <th>4</th>\n",
       "      <td>4.5</td>\n",
       "      <td>l1</td>\n",
       "      <td>92.9133</td>\n",
       "      <td>91.9673</td>\n",
       "      <td>86.2047</td>\n",
       "      <td>85.1433</td>\n",
       "    </tr>\n",
       "  </tbody>\n",
       "</table>\n",
       "</div>"
      ],
      "text/plain": [
       "     C penalty recall_train recall_val f1_train   f1_val\n",
       "0  0.1      l1       93.977    93.9403  85.2893  85.1777\n",
       "1  1.2      l1      92.7973    92.3467  85.7797  85.2527\n",
       "2  2.3      l1       92.826     92.123  86.1127  85.1683\n",
       "3  3.4      l1      92.9087    91.9967  86.1867  85.1473\n",
       "4  4.5      l1      92.9133    91.9673  86.2047  85.1433"
      ]
     },
     "execution_count": 27,
     "metadata": {},
     "output_type": "execute_result"
    }
   ],
   "source": [
    "# Dataframe of metrics\n",
    "lreg_metrics= metrics_dataframe(lreg[0])\n",
    "lreg_metrics.head()"
   ]
  },
  {
   "cell_type": "code",
   "execution_count": 28,
   "metadata": {
    "slideshow": {
     "slide_type": "slide"
    }
   },
   "outputs": [
    {
     "data": {
      "image/png": "[encoded data removed]",
      "text/plain": [
       "<Figure size 432x288 with 1 Axes>"
      ]
     },
     "metadata": {},
     "output_type": "display_data"
    }
   ],
   "source": [
    "#Plot of metrics for different parameters \n",
    "plot_metric_behaviour(lreg_metrics,\"C\", \"f1_val\",\"penalty\",1)"
   ]
  },
  {
   "cell_type": "code",
   "execution_count": 29,
   "metadata": {
    "slideshow": {
     "slide_type": "skip"
    }
   },
   "outputs": [
    {
     "data": {
      "image/png": "[encoded data removed]",
      "text/plain": [
       "<Figure size 432x288 with 1 Axes>"
      ]
     },
     "metadata": {},
     "output_type": "display_data"
    }
   ],
   "source": [
    "#Learning curve\n",
    "plot_learning_curve(lreg_metrics,\"C\", \"f1\",\"penalty\",\"l1\")"
   ]
  },
  {
   "cell_type": "code",
   "execution_count": 30,
   "metadata": {
    "slideshow": {
     "slide_type": "slide"
    }
   },
   "outputs": [
    {
     "data": {
      "image/png": "[encoded data removed]",
      "text/plain": [
       "<Figure size 432x288 with 1 Axes>"
      ]
     },
     "metadata": {},
     "output_type": "display_data"
    }
   ],
   "source": [
    "# Plot of accuracy \n",
    "plot_metric_behaviour(acc_plot(lreg),'C','acc_val','penalty',step=1)"
   ]
  },
  {
   "cell_type": "markdown",
   "metadata": {
    "slideshow": {
     "slide_type": "slide"
    }
   },
   "source": [
    "This result is similar to Naive Bayes case."
   ]
  },
  {
   "cell_type": "markdown",
   "metadata": {
    "slideshow": {
     "slide_type": "slide"
    }
   },
   "source": [
    "Let us evaluate the performance of these models in the test set"
   ]
  },
  {
   "cell_type": "code",
   "execution_count": 31,
   "metadata": {
    "slideshow": {
     "slide_type": "skip"
    }
   },
   "outputs": [
    {
     "name": "stdout",
     "output_type": "stream",
     "text": [
      "<class 'pandas.core.frame.DataFrame'>\n",
      "RangeIndex: 14308 entries, 0 to 14307\n",
      "Data columns (total 13 columns):\n",
      "Year                          14308 non-null object\n",
      "Month                         14308 non-null object\n",
      "State                         14308 non-null object\n",
      "Species                       14308 non-null object\n",
      "Location                      14308 non-null object\n",
      "normalized_food               14308 non-null object\n",
      "Illnesses                     14308 non-null object\n",
      "Hospitalizations              14308 non-null object\n",
      "Fatalities                    14308 non-null object\n",
      "Most_common_Location          14308 non-null object\n",
      "Most_common_Species           14308 non-null object\n",
      "Are_there_Hospitalizations    14308 non-null object\n",
      "Are_there_Fatalities          14308 non-null object\n",
      "dtypes: object(13)\n",
      "memory usage: 1.4+ MB\n"
     ]
    }
   ],
   "source": [
    "test_set = copy.deepcopy(outbreaks_test)\n",
    "train_set = copy.deepcopy(outbreaks_train)\n",
    "train_set.info()"
   ]
  },
  {
   "cell_type": "code",
   "execution_count": 32,
   "metadata": {
    "slideshow": {
     "slide_type": "skip"
    }
   },
   "outputs": [
    {
     "name": "stdout",
     "output_type": "stream",
     "text": [
      "<class 'pandas.core.frame.DataFrame'>\n",
      "RangeIndex: 4770 entries, 0 to 4769\n",
      "Data columns (total 13 columns):\n",
      "Year                          4770 non-null object\n",
      "Month                         4770 non-null object\n",
      "State                         4770 non-null object\n",
      "Species                       4770 non-null object\n",
      "Location                      4770 non-null object\n",
      "normalized_food               4770 non-null object\n",
      "Illnesses                     4770 non-null object\n",
      "Hospitalizations              4770 non-null object\n",
      "Fatalities                    4770 non-null object\n",
      "Most_common_Location          4770 non-null object\n",
      "Most_common_Species           4770 non-null object\n",
      "Are_there_Hospitalizations    4770 non-null object\n",
      "Are_there_Fatalities          4770 non-null object\n",
      "dtypes: object(13)\n",
      "memory usage: 484.5+ KB\n"
     ]
    }
   ],
   "source": [
    "test_set.info()"
   ]
  },
  {
   "cell_type": "code",
   "execution_count": 33,
   "metadata": {
    "slideshow": {
     "slide_type": "skip"
    }
   },
   "outputs": [
    {
     "name": "stdout",
     "output_type": "stream",
     "text": [
      "<class 'pandas.core.frame.DataFrame'>\n",
      "RangeIndex: 14308 entries, 0 to 14307\n",
      "Data columns (total 13 columns):\n",
      "Year                          14308 non-null object\n",
      "Month                         14308 non-null object\n",
      "State                         14308 non-null object\n",
      "Species                       14308 non-null object\n",
      "Location                      14308 non-null object\n",
      "normalized_food               14308 non-null object\n",
      "Illnesses                     14308 non-null object\n",
      "Hospitalizations              14308 non-null object\n",
      "Fatalities                    14308 non-null object\n",
      "Most_common_Location          14308 non-null object\n",
      "Most_common_Species           14308 non-null object\n",
      "Are_there_Hospitalizations    14308 non-null object\n",
      "Are_there_Fatalities          14308 non-null object\n",
      "dtypes: object(13)\n",
      "memory usage: 1.4+ MB\n"
     ]
    }
   ],
   "source": [
    "train_set.info()"
   ]
  },
  {
   "cell_type": "code",
   "execution_count": 34,
   "metadata": {
    "slideshow": {
     "slide_type": "skip"
    }
   },
   "outputs": [
    {
     "name": "stdout",
     "output_type": "stream",
     "text": [
      "<class 'pandas.core.frame.DataFrame'>\n",
      "RangeIndex: 4770 entries, 0 to 4769\n",
      "Data columns (total 13 columns):\n",
      "Year                          4770 non-null object\n",
      "Month                         4770 non-null object\n",
      "State                         4770 non-null object\n",
      "Species                       4770 non-null object\n",
      "Location                      4770 non-null object\n",
      "normalized_food               4770 non-null object\n",
      "Illnesses                     4770 non-null float64\n",
      "Hospitalizations              4770 non-null float64\n",
      "Fatalities                    4770 non-null float64\n",
      "Most_common_Location          4770 non-null object\n",
      "Most_common_Species           4770 non-null object\n",
      "Are_there_Hospitalizations    4770 non-null float64\n",
      "Are_there_Fatalities          4770 non-null float64\n",
      "dtypes: float64(5), object(8)\n",
      "memory usage: 484.5+ KB\n"
     ]
    }
   ],
   "source": [
    "numeric_cols= ['Illnesses', 'Hospitalizations', 'Fatalities','Are_there_Hospitalizations','Are_there_Fatalities']\n",
    "for column in numeric_cols:\n",
    "    train_set.loc[:,column]=to_float(train_set,column)\n",
    "    test_set.loc[:,column]=to_float(test_set,column)\n",
    "\n",
    "test_set.info()    "
   ]
  },
  {
   "cell_type": "code",
   "execution_count": 35,
   "metadata": {
    "slideshow": {
     "slide_type": "skip"
    }
   },
   "outputs": [
    {
     "name": "stdout",
     "output_type": "stream",
     "text": [
      "<class 'pandas.core.frame.DataFrame'>\n",
      "RangeIndex: 4770 entries, 0 to 4769\n",
      "Data columns (total 15 columns):\n",
      "Year                          4770 non-null object\n",
      "Month                         4770 non-null object\n",
      "State                         4770 non-null object\n",
      "Species                       4770 non-null object\n",
      "Location                      4770 non-null object\n",
      "normalized_food               4770 non-null object\n",
      "Illnesses                     4770 non-null float64\n",
      "Hospitalizations              4770 non-null float64\n",
      "Fatalities                    4770 non-null float64\n",
      "Most_common_Location          4770 non-null object\n",
      "Most_common_Species           4770 non-null object\n",
      "Are_there_Hospitalizations    4770 non-null float64\n",
      "Are_there_Fatalities          4770 non-null float64\n",
      "Log_Illnesses                 4770 non-null float64\n",
      "A_lot_of_Ill                  4770 non-null int64\n",
      "dtypes: float64(6), int64(1), object(8)\n",
      "memory usage: 559.1+ KB\n"
     ]
    }
   ],
   "source": [
    "train_set[\"Log_Illnesses\"]=np.log(train_set.Illnesses)\n",
    "test_set[\"Log_Illnesses\"]=np.log(test_set.Illnesses)\n",
    "\n",
    "median_Log_Ill_train=train_set[\"Log_Illnesses\"].median()\n",
    "\n",
    "\n",
    "train_set[\"A_lot_of_Ill\"] = A_lot_of_Ill(train_set[\"Log_Illnesses\"])\n",
    "test_set[\"A_lot_of_Ill\"] = A_lot_of_Ill( test_set[\"Log_Illnesses\"])\n",
    "test_set.info()"
   ]
  },
  {
   "cell_type": "code",
   "execution_count": 36,
   "metadata": {
    "slideshow": {
     "slide_type": "skip"
    }
   },
   "outputs": [],
   "source": [
    "train_set.drop(columns=[\"Log_Illnesses\"],inplace=True)\n",
    "test_set.drop(columns=[\"Log_Illnesses\"],inplace=True)\n",
    "\n",
    "train_set.drop(columns=[\"Most_common_Location\"],inplace=True)\n",
    "test_set.drop(columns=[\"Most_common_Location\"],inplace=True)\n",
    "train_set.drop(columns=[\"Most_common_Species\"],inplace=True)\n",
    "test_set.drop(columns=[\"Most_common_Species\"],inplace=True)\n",
    "\n"
   ]
  },
  {
   "cell_type": "code",
   "execution_count": 37,
   "metadata": {
    "scrolled": true,
    "slideshow": {
     "slide_type": "skip"
    }
   },
   "outputs": [
    {
     "name": "stdout",
     "output_type": "stream",
     "text": [
      "<class 'pandas.core.frame.DataFrame'>\n",
      "RangeIndex: 4770 entries, 0 to 4769\n",
      "Data columns (total 12 columns):\n",
      "Year                          4770 non-null object\n",
      "Month                         4770 non-null object\n",
      "State                         4770 non-null object\n",
      "Species                       4770 non-null object\n",
      "Location                      4770 non-null object\n",
      "normalized_food               4770 non-null object\n",
      "Illnesses                     4770 non-null float64\n",
      "Hospitalizations              4770 non-null float64\n",
      "Fatalities                    4770 non-null float64\n",
      "Are_there_Hospitalizations    4770 non-null float64\n",
      "Are_there_Fatalities          4770 non-null float64\n",
      "A_lot_of_Ill                  4770 non-null int64\n",
      "dtypes: float64(5), int64(1), object(6)\n",
      "memory usage: 447.3+ KB\n"
     ]
    }
   ],
   "source": [
    "test_set.info()"
   ]
  },
  {
   "cell_type": "code",
   "execution_count": 38,
   "metadata": {
    "slideshow": {
     "slide_type": "skip"
    }
   },
   "outputs": [],
   "source": [
    "categorical_features=['Species', 'Location']\n",
    "for feature in categorical_features:\n",
    "    top_classes=train_set[feature].value_counts().index[:10]\n",
    "    label= 'Most_common_' + feature\n",
    "    train_set[label] = most_common(train_set, feature,top_classes)\n",
    "    test_set[label] = most_common(test_set, feature,top_classes)      "
   ]
  },
  {
   "cell_type": "code",
   "execution_count": 39,
   "metadata": {
    "slideshow": {
     "slide_type": "skip"
    }
   },
   "outputs": [
    {
     "data": {
      "text/html": [
       "<div>\n",
       "<style scoped>\n",
       "    .dataframe tbody tr th:only-of-type {\n",
       "        vertical-align: middle;\n",
       "    }\n",
       "\n",
       "    .dataframe tbody tr th {\n",
       "        vertical-align: top;\n",
       "    }\n",
       "\n",
       "    .dataframe thead th {\n",
       "        text-align: right;\n",
       "    }\n",
       "</style>\n",
       "<table border=\"1\" class=\"dataframe\">\n",
       "  <thead>\n",
       "    <tr style=\"text-align: right;\">\n",
       "      <th></th>\n",
       "      <th>Year</th>\n",
       "      <th>Month</th>\n",
       "      <th>State</th>\n",
       "      <th>Species</th>\n",
       "      <th>Location</th>\n",
       "      <th>normalized_food</th>\n",
       "      <th>Illnesses</th>\n",
       "      <th>Hospitalizations</th>\n",
       "      <th>Fatalities</th>\n",
       "      <th>Are_there_Hospitalizations</th>\n",
       "      <th>Are_there_Fatalities</th>\n",
       "      <th>A_lot_of_Ill</th>\n",
       "      <th>Most_common_Species</th>\n",
       "      <th>Most_common_Location</th>\n",
       "    </tr>\n",
       "  </thead>\n",
       "  <tbody>\n",
       "    <tr>\n",
       "      <th>0</th>\n",
       "      <td>2011</td>\n",
       "      <td>March</td>\n",
       "      <td>IN</td>\n",
       "      <td>norovirus</td>\n",
       "      <td>restaurant - sit-down dining</td>\n",
       "      <td>stuffing turkey</td>\n",
       "      <td>2.0</td>\n",
       "      <td>1.0</td>\n",
       "      <td>0.0</td>\n",
       "      <td>1.0</td>\n",
       "      <td>0.0</td>\n",
       "      <td>0</td>\n",
       "      <td>norovirus</td>\n",
       "      <td>restaurant - sit-down dining</td>\n",
       "    </tr>\n",
       "    <tr>\n",
       "      <th>1</th>\n",
       "      <td>2009</td>\n",
       "      <td>May</td>\n",
       "      <td>KS</td>\n",
       "      <td>salmonella enterica</td>\n",
       "      <td>restaurant - \"fast-food\"(drive up service or p...</td>\n",
       "      <td>burrito</td>\n",
       "      <td>2.0</td>\n",
       "      <td>0.0</td>\n",
       "      <td>0.0</td>\n",
       "      <td>0.0</td>\n",
       "      <td>0.0</td>\n",
       "      <td>0</td>\n",
       "      <td>salmonella enterica</td>\n",
       "      <td>restaurant - \"fast-food\"(drive up service or p...</td>\n",
       "    </tr>\n",
       "    <tr>\n",
       "      <th>2</th>\n",
       "      <td>2003</td>\n",
       "      <td>November</td>\n",
       "      <td>HI</td>\n",
       "      <td>scombroid toxin</td>\n",
       "      <td>restaurant - other or unknown type</td>\n",
       "      <td>fish mahi mahi</td>\n",
       "      <td>3.0</td>\n",
       "      <td>0.0</td>\n",
       "      <td>0.0</td>\n",
       "      <td>0.0</td>\n",
       "      <td>0.0</td>\n",
       "      <td>0</td>\n",
       "      <td>scombroid toxin</td>\n",
       "      <td>restaurant - other or unknown type</td>\n",
       "    </tr>\n",
       "    <tr>\n",
       "      <th>3</th>\n",
       "      <td>2008</td>\n",
       "      <td>April</td>\n",
       "      <td>FL</td>\n",
       "      <td>norovirus genogroup ii</td>\n",
       "      <td>restaurant - other or unknown type</td>\n",
       "      <td>coleslaw</td>\n",
       "      <td>84.0</td>\n",
       "      <td>2.0</td>\n",
       "      <td>0.0</td>\n",
       "      <td>1.0</td>\n",
       "      <td>0.0</td>\n",
       "      <td>1</td>\n",
       "      <td>norovirus genogroup ii</td>\n",
       "      <td>restaurant - other or unknown type</td>\n",
       "    </tr>\n",
       "    <tr>\n",
       "      <th>4</th>\n",
       "      <td>2005</td>\n",
       "      <td>February</td>\n",
       "      <td>OH</td>\n",
       "      <td>other - chemical/toxin</td>\n",
       "      <td>other</td>\n",
       "      <td>peanut</td>\n",
       "      <td>2.0</td>\n",
       "      <td>0.0</td>\n",
       "      <td>0.0</td>\n",
       "      <td>0.0</td>\n",
       "      <td>0.0</td>\n",
       "      <td>0</td>\n",
       "      <td>bulk_Species</td>\n",
       "      <td>other</td>\n",
       "    </tr>\n",
       "  </tbody>\n",
       "</table>\n",
       "</div>"
      ],
      "text/plain": [
       "   Year     Month State                 Species  \\\n",
       "0  2011     March    IN               norovirus   \n",
       "1  2009       May    KS     salmonella enterica   \n",
       "2  2003  November    HI         scombroid toxin   \n",
       "3  2008     April    FL  norovirus genogroup ii   \n",
       "4  2005  February    OH  other - chemical/toxin   \n",
       "\n",
       "                                            Location  normalized_food  \\\n",
       "0                       restaurant - sit-down dining  stuffing turkey   \n",
       "1  restaurant - \"fast-food\"(drive up service or p...          burrito   \n",
       "2                 restaurant - other or unknown type   fish mahi mahi   \n",
       "3                 restaurant - other or unknown type         coleslaw   \n",
       "4                                              other           peanut   \n",
       "\n",
       "   Illnesses  Hospitalizations  Fatalities  Are_there_Hospitalizations  \\\n",
       "0        2.0               1.0         0.0                         1.0   \n",
       "1        2.0               0.0         0.0                         0.0   \n",
       "2        3.0               0.0         0.0                         0.0   \n",
       "3       84.0               2.0         0.0                         1.0   \n",
       "4        2.0               0.0         0.0                         0.0   \n",
       "\n",
       "   Are_there_Fatalities  A_lot_of_Ill     Most_common_Species  \\\n",
       "0                   0.0             0               norovirus   \n",
       "1                   0.0             0     salmonella enterica   \n",
       "2                   0.0             0         scombroid toxin   \n",
       "3                   0.0             1  norovirus genogroup ii   \n",
       "4                   0.0             0            bulk_Species   \n",
       "\n",
       "                                Most_common_Location  \n",
       "0                       restaurant - sit-down dining  \n",
       "1  restaurant - \"fast-food\"(drive up service or p...  \n",
       "2                 restaurant - other or unknown type  \n",
       "3                 restaurant - other or unknown type  \n",
       "4                                              other  "
      ]
     },
     "execution_count": 39,
     "metadata": {},
     "output_type": "execute_result"
    }
   ],
   "source": [
    "test_set.head()"
   ]
  },
  {
   "cell_type": "code",
   "execution_count": 40,
   "metadata": {
    "slideshow": {
     "slide_type": "skip"
    }
   },
   "outputs": [],
   "source": [
    "# Outliers \n",
    "    \n",
    "# Removal of outliers from numerical columns\n",
    "features = [\"Hospitalizations\",\"Fatalities\",\"Illnesses\"]\n",
    "# Creating copies of the data\n",
    "not_outliers_train = copy.deepcopy(train_set)\n",
    "not_outliers_test = copy.deepcopy(test_set)\n",
    "    \n",
    "for feature in features:\n",
    "    #For each feature outliers for train data are removed\n",
    "    without_outliers_train= not_outliers_column(not_outliers_train, not_outliers_train\n",
    "                                              , feature,threshold=99.9)\n",
    "    #For each feature outliers for test  data are removed\n",
    "    without_outliers_test= not_outliers_column(not_outliers_test, not_outliers_train\n",
    "                                              , feature,threshold=99.9)\n",
    "    # Saving data in a temporary variable\n",
    "    temp_not_outliers_train= not_outliers_train.loc[without_outliers_train,:]\n",
    "        \n",
    "    temp_not_outliers_test= not_outliers_test.loc[without_outliers_test,:]\n",
    "        \n",
    "    #Erasing the  original dataset\n",
    "    not_outliers_train = None\n",
    "    not_outliers_test = None\n",
    "        \n",
    "    # Transferring temporal values\n",
    "    not_outliers_train = temp_not_outliers_train.loc[:,:]\n",
    "    not_outliers_test = temp_not_outliers_test.loc[:,:]\n",
    "        \n",
    "    #Cleaning memory\n",
    "    temp_not_outliers_train = None\n",
    "    temp_not_outliers_test = None\n",
    "        "
   ]
  },
  {
   "cell_type": "code",
   "execution_count": 41,
   "metadata": {
    "slideshow": {
     "slide_type": "skip"
    }
   },
   "outputs": [],
   "source": [
    "not_outliers_train.drop(columns=[\"Illnesses\"],inplace=True)\n",
    "not_outliers_test.drop(columns=[\"Illnesses\"],inplace=True)\n",
    "not_outliers_train.drop(columns=[\"Hospitalizations\"],inplace=True)\n",
    "not_outliers_test.drop(columns=[\"Fatalities\"],inplace=True)\n",
    "not_outliers_test.drop(columns=[\"Hospitalizations\"],inplace=True)\n",
    "not_outliers_train.drop(columns=[\"Fatalities\"],inplace=True)\n",
    "not_outliers_train.drop(columns=[\"Species\"],inplace=True)\n",
    "not_outliers_test.drop(columns=[\"Species\"],inplace=True)\n",
    "not_outliers_train.drop(columns=[\"Location\"],inplace=True)\n",
    "not_outliers_test.drop(columns=[\"Location\"],inplace=True)\n",
    "not_outliers_train.drop(columns=[\"normalized_food\"],inplace=True)\n",
    "not_outliers_test.drop(columns=[\"normalized_food\"],inplace=True)\n"
   ]
  },
  {
   "cell_type": "code",
   "execution_count": 42,
   "metadata": {
    "slideshow": {
     "slide_type": "skip"
    }
   },
   "outputs": [
    {
     "name": "stdout",
     "output_type": "stream",
     "text": [
      "<class 'pandas.core.frame.DataFrame'>\n",
      "Int64Index: 4760 entries, 0 to 4769\n",
      "Data columns (total 8 columns):\n",
      "Year                          4760 non-null object\n",
      "Month                         4760 non-null object\n",
      "State                         4760 non-null object\n",
      "Are_there_Hospitalizations    4760 non-null float64\n",
      "Are_there_Fatalities          4760 non-null float64\n",
      "A_lot_of_Ill                  4760 non-null int64\n",
      "Most_common_Species           4760 non-null object\n",
      "Most_common_Location          4760 non-null object\n",
      "dtypes: float64(2), int64(1), object(5)\n",
      "memory usage: 334.7+ KB\n"
     ]
    }
   ],
   "source": [
    "not_outliers_test.info()"
   ]
  },
  {
   "cell_type": "code",
   "execution_count": 43,
   "metadata": {
    "slideshow": {
     "slide_type": "skip"
    }
   },
   "outputs": [],
   "source": [
    "dummies=get_dummies(not_outliers_train,not_outliers_test)\n",
    "\n",
    "dummies_train_set= dummies[0]\n",
    "dummies_test_set= dummies[1]\n",
    "    \n",
    "# Separating predictors from the response variables for train and val sets\n",
    "y_tr = dummies_train_set['Are_there_Hospitalizations'].values.reshape(-1,1).ravel()\n",
    "X_tr = dummies_train_set.drop('Are_there_Hospitalizations', axis=1).values\n",
    "y_tst = dummies_test_set['Are_there_Hospitalizations'].values.reshape(-1,1).ravel()\n",
    "X_tst =dummies_test_set.drop('Are_there_Hospitalizations', axis=1).values\n"
   ]
  },
  {
   "cell_type": "code",
   "execution_count": 44,
   "metadata": {
    "slideshow": {
     "slide_type": "skip"
    }
   },
   "outputs": [
    {
     "name": "stdout",
     "output_type": "stream",
     "text": [
      "             precision    recall  f1-score   support\n",
      "\n",
      "        0.0       0.78      0.93      0.85      3464\n",
      "        1.0       0.62      0.32      0.42      1296\n",
      "\n",
      "avg / total       0.74      0.76      0.73      4760\n",
      "\n"
     ]
    }
   ],
   "source": [
    "reg= LogisticRegression(penalty='l1')\n",
    "\n",
    "reg.fit(X_tr, y_tr)\n",
    "# Predict the labels of the test set: y_pred\n",
    "y_pred = reg.predict(X_tst)\n",
    "\n",
    "print(classification_report(y_tst, y_pred,digits=2))\n"
   ]
  },
  {
   "cell_type": "code",
   "execution_count": 45,
   "metadata": {
    "slideshow": {
     "slide_type": "slide"
    }
   },
   "outputs": [
    {
     "data": {
      "text/plain": [
       "0.7623949579831932"
      ]
     },
     "execution_count": 45,
     "metadata": {},
     "output_type": "execute_result"
    }
   ],
   "source": [
    "accuracy_score(y_tst, y_pred)"
   ]
  }
 ],
 "metadata": {
  "celltoolbar": "Slideshow",
  "kernelspec": {
   "display_name": "Python 3",
   "language": "python",
   "name": "python3"
  },
  "language_info": {
   "codemirror_mode": {
    "name": "ipython",
    "version": 3
   },
   "file_extension": ".py",
   "mimetype": "text/x-python",
   "name": "python",
   "nbconvert_exporter": "python",
   "pygments_lexer": "ipython3",
   "version": "3.6.8"
  }
 },
 "nbformat": 4,
 "nbformat_minor": 2
}
